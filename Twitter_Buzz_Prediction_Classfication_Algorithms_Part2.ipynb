{
 "cells": [
  {
   "cell_type": "markdown",
   "metadata": {},
   "source": [
    "### <font color='red'> Project Part 2: Buzz Prediction on Twitter\n",
    "\n",
    "Project Description:\n",
    "- Use same datasets as Project 2.\n",
    "- Run all the models only on 10% data. Use code given in Project 2 for sampling.\n",
    "- Preprocess data: Explore data and apply data scaling."
   ]
  },
  {
   "cell_type": "markdown",
   "metadata": {},
   "source": [
    "## Objective\n",
    "\n",
    "-  To predict whether a specific topic in twitter creates a buzz (Binary Classification problem).\n",
    "    - Sample the dataset using randomization and stratification.\n",
    "    - Run ensemble techniques like Voting Classifier, Bagging, Boosting, AdaBoost and Gradient Boosting on the scaled dataset with base classifiers with hypertuned parameters identified from Project 2.\n",
    "    - Apply PCA on the classification dataset.\n",
    "    - Fit different classification algorithms on the PCA applied data.\n",
    "        - Select hyperparameters for each classification algorithm using Grid Search CV.\n",
    "    - Choose evaluation metric and select the best model based on train and test scores.\n",
    "    - Compare the accuracies of classifiers applied on PCA applied dataset with classifiers applied on the scaled version of the dataset\n",
    "    - Run a deep learning classifier model on the PCA applied dataset"
   ]
  },
  {
   "cell_type": "code",
   "execution_count": 1,
   "metadata": {},
   "outputs": [],
   "source": [
    "import numpy as np\n",
    "import pandas as pd\n",
    "import matplotlib.pyplot as plt\n",
    "import warnings\n",
    "warnings.filterwarnings('ignore')\n",
    "import matplotlib.cbook\n",
    "warnings.filterwarnings(\"ignore\",category=matplotlib.cbook.mplDeprecation)\n",
    "warnings.filterwarnings(\"ignore\",category=DeprecationWarning)"
   ]
  },
  {
   "cell_type": "code",
   "execution_count": 2,
   "metadata": {},
   "outputs": [],
   "source": [
    "columns =['NCD_0','NCD_1','NCD_2','NCD_3','NCD_4','NCD_5','NCD_6','AI_0','AI_1','AI_2','AI_3','AI_4','AI_5','AI_6','AS(NA)_0','AS(NA)_1','AS(NA)_2','AS(NA)_3','AS(NA)_4','AS(NA)_5','AS(NA)_6','BL_0','BL_1','BL_2','BL_3','BL_4','BL_5','BL_6','NAC_0','NAC_1','NAC_2','NAC_3','NAC_4','NAC_5','NAC_6','AS(NAC)_0','AS(NAC)_1','AS(NAC)_2','AS(NAC)_3','AS(NAC)_4','AS(NAC)_5','AS(NAC)_6','CS_0','CS_1','CS_2','CS_3','CS_4','CS_5','CS_6','AT_0','AT_1','AT_2','AT_3','AT_4','AT_5','AT_6','NA_0','NA_1','NA_2','NA_3','NA_4','NA_5','NA_6','ADL_0','ADL_1','ADL_2','ADL_3','ADL_4','ADL_5','ADL_6','NAD_0','NAD_1','NAD_2','NAD_3','NAD_4','NAD_5','NAD_6','Annotation']"
   ]
  },
  {
   "cell_type": "code",
   "execution_count": 3,
   "metadata": {},
   "outputs": [],
   "source": [
    "df_class = pd.read_csv('Twitter-Absolute-Sigma-500.data',header=None,names=columns,index_col=False)"
   ]
  },
  {
   "cell_type": "code",
   "execution_count": 4,
   "metadata": {},
   "outputs": [],
   "source": [
    "X = df_class.iloc[:,:-1]\n",
    "y = df_class['Annotation']"
   ]
  },
  {
   "cell_type": "markdown",
   "metadata": {},
   "source": [
    "## Evaluation Strategy"
   ]
  },
  {
   "cell_type": "markdown",
   "metadata": {},
   "source": [
    "**ROC_AUC_score** - ROC curve plots true positive rate versus false positive rate for all classification thresholds ranging from 0 to 1. Imbalanced dataset doesn't change the way in which the ROC curve is generated. To quantify the performance of the classifier, area under the  ROC curve is computed. AUC metric computes the probability that a classifier will rank randomly chosen positive observation higher than randomly chosen negative observation and thus serves as a good evaluation metric for imbalanced dataset."
   ]
  },
  {
   "cell_type": "code",
   "execution_count": 5,
   "metadata": {},
   "outputs": [],
   "source": [
    "from sklearn.metrics import roc_auc_score"
   ]
  },
  {
   "cell_type": "markdown",
   "metadata": {},
   "source": [
    "#### _Data Sampling_"
   ]
  },
  {
   "cell_type": "markdown",
   "metadata": {},
   "source": [
    "_Taking 10% of the data from entire dataset using randomization and stratification techniques._"
   ]
  },
  {
   "cell_type": "code",
   "execution_count": 6,
   "metadata": {},
   "outputs": [],
   "source": [
    "from sklearn.model_selection import train_test_split\n",
    "_, sample_data, _, sample_target = train_test_split(X, y, shuffle = True, test_size = 0.1, random_state = 10)"
   ]
  },
  {
   "cell_type": "code",
   "execution_count": 7,
   "metadata": {},
   "outputs": [
    {
     "data": {
      "text/plain": [
       "0.0    11350\n",
       "1.0     2721\n",
       "Name: Annotation, dtype: int64"
      ]
     },
     "execution_count": 7,
     "metadata": {},
     "output_type": "execute_result"
    }
   ],
   "source": [
    "sample_target.value_counts()"
   ]
  },
  {
   "cell_type": "markdown",
   "metadata": {},
   "source": [
    "#### _Train-Test Split_"
   ]
  },
  {
   "cell_type": "markdown",
   "metadata": {},
   "source": [
    "_Splitting the sample dataset into train set (80%) and test set (20%)_"
   ]
  },
  {
   "cell_type": "code",
   "execution_count": 8,
   "metadata": {},
   "outputs": [],
   "source": [
    "X_train_S, X_test_S, y_train, y_test = train_test_split(sample_data, sample_target, test_size=0.2, random_state = 10)"
   ]
  },
  {
   "cell_type": "markdown",
   "metadata": {},
   "source": [
    "#### _Scaling_"
   ]
  },
  {
   "cell_type": "markdown",
   "metadata": {},
   "source": [
    "_Applying MinMaxScaler() on train and test sets to scale the column values between 0 and 1. MinMaxScaler() reduces skewness but doesn't remove it. Since the column values are in the range of 0 to 1, the results will be consistent._"
   ]
  },
  {
   "cell_type": "code",
   "execution_count": 9,
   "metadata": {},
   "outputs": [],
   "source": [
    "from sklearn.preprocessing import MinMaxScaler\n",
    "scaler = MinMaxScaler()\n",
    "X_train = scaler.fit_transform(X_train_S)\n",
    "X_test = scaler.transform(X_test_S)"
   ]
  },
  {
   "cell_type": "markdown",
   "metadata": {},
   "source": [
    "## Visualization Plot for Train and Test data"
   ]
  },
  {
   "cell_type": "code",
   "execution_count": 10,
   "metadata": {},
   "outputs": [],
   "source": [
    "def grid_train_test_plot(df,col,train,test,title,xlabel,ylabel,width,height,flag):\n",
    "    fig = plt.figure(figsize=(width,height))\n",
    "    x=len(df[col])\n",
    "    x_label=df[col].unique()\n",
    "    ax = fig.add_subplot(111,facecolor='white')\n",
    "    ax.plot(df[col], df[train], c = 'g', linewidth=2, alpha=0.7,label='Train ROC score')\n",
    "    ax.plot(df[col], df[test], c = 'b',linewidth=2, alpha=0.7,label='Test ROC score')\n",
    "    ax.scatter(df[col], df[train], c = 'g', alpha=0.7,label='Train ROC score')\n",
    "    ax.scatter(df[col], df[test], c = 'b',alpha=0.7,label='Test ROC score')\n",
    "    if(flag=='show'):\n",
    "        for i,j in zip(df[col],round(df[train],3)):\n",
    "            ax.annotate(str(j),xy=(i,j),color='black')\n",
    "        for i,j in zip(df[col],round(df[test],3)):\n",
    "            ax.annotate(str(j),xy=(i,j),color='black')\n",
    "    ax.legend()\n",
    "    plt.grid(zorder=0)\n",
    "    ax.set_title(title,fontsize=20,weight='bold')\n",
    "    ax.set_xlabel(xlabel,fontsize=10,weight='bold')\n",
    "    ax.set_ylabel(ylabel,fontsize=10,weight='bold')\n",
    "    handles, labels = ax.get_legend_handles_labels()\n",
    "    plt.show()"
   ]
  },
  {
   "cell_type": "markdown",
   "metadata": {},
   "source": [
    "## Project 2 - Report and Results"
   ]
  },
  {
   "cell_type": "markdown",
   "metadata": {},
   "source": [
    "_The table below shows the various Classifiers run on the raw dataset as part of Project2. The particular table will be later used for AUC Score metric comparison with same models run on PCA applied data._"
   ]
  },
  {
   "cell_type": "code",
   "execution_count": 11,
   "metadata": {},
   "outputs": [
    {
     "name": "stdout",
     "output_type": "stream",
     "text": [
      "\u001b[1mPREVIOUS PROJECT CLASSIFICATION MODEL BEST PARAMETER RUN RESULTS\u001b[0m\n"
     ]
    },
    {
     "data": {
      "text/html": [
       "<div>\n",
       "<style scoped>\n",
       "    .dataframe tbody tr th:only-of-type {\n",
       "        vertical-align: middle;\n",
       "    }\n",
       "\n",
       "    .dataframe tbody tr th {\n",
       "        vertical-align: top;\n",
       "    }\n",
       "\n",
       "    .dataframe thead th {\n",
       "        text-align: right;\n",
       "    }\n",
       "</style>\n",
       "<table border=\"1\" class=\"dataframe\">\n",
       "  <thead>\n",
       "    <tr style=\"text-align: right;\">\n",
       "      <th></th>\n",
       "      <th>Model Name</th>\n",
       "      <th>Model Parameters</th>\n",
       "      <th>Train Accuracy</th>\n",
       "      <th>Test Accuracy</th>\n",
       "      <th>Train AUC Score</th>\n",
       "      <th>Test AUC Score</th>\n",
       "    </tr>\n",
       "  </thead>\n",
       "  <tbody>\n",
       "    <tr>\n",
       "      <th>0</th>\n",
       "      <td>K Neighbors Classifier</td>\n",
       "      <td>n_neighbors: 10</td>\n",
       "      <td>0.970149</td>\n",
       "      <td>0.961989</td>\n",
       "      <td>0.939768</td>\n",
       "      <td>0.924188</td>\n",
       "    </tr>\n",
       "    <tr>\n",
       "      <th>1</th>\n",
       "      <td>Logistic Regression</td>\n",
       "      <td>C: 10 , penalty: l1</td>\n",
       "      <td>0.969172</td>\n",
       "      <td>0.966607</td>\n",
       "      <td>0.941443</td>\n",
       "      <td>0.936672</td>\n",
       "    </tr>\n",
       "    <tr>\n",
       "      <th>2</th>\n",
       "      <td>Linear Support Vector Machine Classifier</td>\n",
       "      <td>C: 1, dual: False, loss: squared_hinge, penalt...</td>\n",
       "      <td>0.967395</td>\n",
       "      <td>0.966607</td>\n",
       "      <td>0.934555</td>\n",
       "      <td>0.933925</td>\n",
       "    </tr>\n",
       "    <tr>\n",
       "      <th>3</th>\n",
       "      <td>Linear Kernelized Support Vector Machine Class...</td>\n",
       "      <td>C: 100</td>\n",
       "      <td>0.969083</td>\n",
       "      <td>0.966963</td>\n",
       "      <td>0.942966</td>\n",
       "      <td>0.938952</td>\n",
       "    </tr>\n",
       "    <tr>\n",
       "      <th>4</th>\n",
       "      <td>RBF Kernelized Support Vector Machine Classifier</td>\n",
       "      <td>C: 0.1, gamma: 0.01</td>\n",
       "      <td>0.809879</td>\n",
       "      <td>0.807460</td>\n",
       "      <td>0.506912</td>\n",
       "      <td>0.508167</td>\n",
       "    </tr>\n",
       "    <tr>\n",
       "      <th>5</th>\n",
       "      <td>Poly Kernelized Support Vector Machine Classifier</td>\n",
       "      <td>C: 10, degree: 2, gamma: 0.01</td>\n",
       "      <td>0.884684</td>\n",
       "      <td>0.879218</td>\n",
       "      <td>0.702149</td>\n",
       "      <td>0.691470</td>\n",
       "    </tr>\n",
       "    <tr>\n",
       "      <th>6</th>\n",
       "      <td>Decision Tree Classifier</td>\n",
       "      <td>max_depth: 5, max_features: 7</td>\n",
       "      <td>0.970593</td>\n",
       "      <td>0.960924</td>\n",
       "      <td>0.948813</td>\n",
       "      <td>0.931078</td>\n",
       "    </tr>\n",
       "  </tbody>\n",
       "</table>\n",
       "</div>"
      ],
      "text/plain": [
       "                                          Model Name  \\\n",
       "0                             K Neighbors Classifier   \n",
       "1                                Logistic Regression   \n",
       "2           Linear Support Vector Machine Classifier   \n",
       "3  Linear Kernelized Support Vector Machine Class...   \n",
       "4   RBF Kernelized Support Vector Machine Classifier   \n",
       "5  Poly Kernelized Support Vector Machine Classifier   \n",
       "6                           Decision Tree Classifier   \n",
       "\n",
       "                                    Model Parameters  Train Accuracy  \\\n",
       "0                                    n_neighbors: 10        0.970149   \n",
       "1                                C: 10 , penalty: l1        0.969172   \n",
       "2  C: 1, dual: False, loss: squared_hinge, penalt...        0.967395   \n",
       "3                                             C: 100        0.969083   \n",
       "4                                C: 0.1, gamma: 0.01        0.809879   \n",
       "5                      C: 10, degree: 2, gamma: 0.01        0.884684   \n",
       "6                      max_depth: 5, max_features: 7        0.970593   \n",
       "\n",
       "   Test Accuracy  Train AUC Score  Test AUC Score  \n",
       "0       0.961989         0.939768        0.924188  \n",
       "1       0.966607         0.941443        0.936672  \n",
       "2       0.966607         0.934555        0.933925  \n",
       "3       0.966963         0.942966        0.938952  \n",
       "4       0.807460         0.506912        0.508167  \n",
       "5       0.879218         0.702149        0.691470  \n",
       "6       0.960924         0.948813        0.931078  "
      ]
     },
     "execution_count": 11,
     "metadata": {},
     "output_type": "execute_result"
    }
   ],
   "source": [
    "old_table=pd.DataFrame({'Model Name':['K Neighbors Classifier','Logistic Regression','Linear Support Vector Machine Classifier','Linear Kernelized Support Vector Machine Classifier','RBF Kernelized Support Vector Machine Classifier','Poly Kernelized Support Vector Machine Classifier','Decision Tree Classifier'],'Model Parameters':[\"n_neighbors: 10\",\"C: 10 , penalty: l1\",\"C: 1, dual: False, loss: squared_hinge, penalty: l1\",\"C: 100\",\"C: 0.1, gamma: 0.01\",\"C: 10, degree: 2, gamma: 0.01\",\"max_depth: 5, max_features: 7\"],'Train Accuracy':[0.970149,0.969172,0.967395,0.969083,0.809879,0.884684,0.970593],'Test Accuracy':[0.961989,0.966607,0.966607,0.966963,0.80746,0.879218,0.960924],'Train AUC Score':[0.939768,0.941443,0.934555,0.942966,0.506912,0.702149,0.948813],'Test AUC Score':[0.924188,0.936672,0.933925,0.938952,0.508167,0.69147,0.931078]})\n",
    "print('\\033[1m' + 'PREVIOUS PROJECT CLASSIFICATION MODEL BEST PARAMETER RUN RESULTS' + '\\033[0m')\n",
    "old_table"
   ]
  },
  {
   "cell_type": "markdown",
   "metadata": {},
   "source": [
    "#### All the models used within the ensemble methods are run with the hypertuned parameters identified in Project2"
   ]
  },
  {
   "cell_type": "markdown",
   "metadata": {},
   "source": [
    "## Voting Classifier Method - Hard"
   ]
  },
  {
   "cell_type": "markdown",
   "metadata": {},
   "source": [
    "_An ensemble method where a collection of several models work together to improve model performance like increasing accuracy and  impoving model fit._\n",
    "_Hard voting makes the final prediction by a simple taking majority of votes to classify data thereby improving accuracy._\n",
    "_Used KNN, Logistic, Decision Tree and LinearSVC as internal algorithms for the ensemble models_"
   ]
  },
  {
   "cell_type": "code",
   "execution_count": 12,
   "metadata": {},
   "outputs": [
    {
     "data": {
      "text/plain": [
       "KNeighborsClassifier(algorithm='auto', leaf_size=30, metric='minkowski',\n",
       "           metric_params=None, n_jobs=1, n_neighbors=10, p=2,\n",
       "           weights='uniform')"
      ]
     },
     "execution_count": 12,
     "metadata": {},
     "output_type": "execute_result"
    }
   ],
   "source": [
    "from sklearn.ensemble import VotingClassifier\n",
    "from sklearn.neighbors import KNeighborsClassifier\n",
    "from sklearn.linear_model import LogisticRegression\n",
    "from sklearn.tree import DecisionTreeClassifier\n",
    "from sklearn.svm import LinearSVC\n",
    "## Base Models for all Ensemble Methods\n",
    "log_clf = LogisticRegression(C=10,penalty='l1',random_state=10)\n",
    "log_clf.fit(X_train, y_train)\n",
    "dt_clf = DecisionTreeClassifier(max_depth=5,max_features=7,random_state=10)\n",
    "dt_clf.fit(X_train, y_train)\n",
    "svm_clf = LinearSVC(C = 1, dual=False,loss='squared_hinge',penalty='l1',random_state=10)\n",
    "svm_clf.fit(X_train, y_train)\n",
    "knn_clf= KNeighborsClassifier(n_neighbors=10)\n",
    "knn_clf.fit(X_train, y_train)"
   ]
  },
  {
   "cell_type": "markdown",
   "metadata": {},
   "source": [
    "_Two hard voting classifier models are trained_"
   ]
  },
  {
   "cell_type": "code",
   "execution_count": 13,
   "metadata": {},
   "outputs": [
    {
     "data": {
      "text/plain": [
       "VotingClassifier(estimators=[('lr', LogisticRegression(C=10, class_weight=None, dual=False, fit_intercept=True,\n",
       "          intercept_scaling=1, max_iter=100, multi_class='ovr', n_jobs=1,\n",
       "          penalty='l1', random_state=10, solver='liblinear', tol=0.0001,\n",
       "          verbose=0, warm_start=False)), ('dt', DecisionTr... max_iter=1000,\n",
       "     multi_class='ovr', penalty='l1', random_state=10, tol=0.0001,\n",
       "     verbose=0))],\n",
       "         flatten_transform=None, n_jobs=1, voting='hard', weights=None)"
      ]
     },
     "execution_count": 13,
     "metadata": {},
     "output_type": "execute_result"
    }
   ],
   "source": [
    "## Model 1 - Logistic, Decision tree, KNN\n",
    "voting_clf_mod_1 = VotingClassifier(estimators=[('lr', log_clf), ('dt', dt_clf), ('knn', knn_clf)], voting='hard')\n",
    "voting_clf_mod_1.fit(X_train, y_train)\n",
    "## Model 2 - Logistic, Decisiion tree, LinearSVC\n",
    "voting_clf_mod_2 = VotingClassifier(estimators=[('lr', log_clf), ('dt', dt_clf), ('svc', svm_clf)], voting='hard')\n",
    "voting_clf_mod_2.fit(X_train, y_train)"
   ]
  },
  {
   "cell_type": "code",
   "execution_count": 14,
   "metadata": {},
   "outputs": [
    {
     "name": "stdout",
     "output_type": "stream",
     "text": [
      "\u001b[1mMODEL 1 - ACCURACY\u001b[0m\n",
      "LogisticRegression : 0.97\n",
      "DecisionTreeClassifier : 0.96\n",
      "KNeighborsClassifier : 0.96\n",
      "VotingClassifier : 0.96\n"
     ]
    },
    {
     "name": "stderr",
     "output_type": "stream",
     "text": [
      "C:\\ProgramData\\Anaconda3\\lib\\site-packages\\sklearn\\preprocessing\\label.py:151: DeprecationWarning: The truth value of an empty array is ambiguous. Returning False, but in future this will result in an error. Use `array.size > 0` to check that an array is not empty.\n",
      "  if diff:\n"
     ]
    }
   ],
   "source": [
    "from sklearn.metrics import accuracy_score\n",
    "print('\\033[1m' + 'MODEL 1 - ACCURACY' + '\\033[0m')\n",
    "for clf in (log_clf, dt_clf, knn_clf, voting_clf_mod_1):\n",
    "    clf.fit(X_train, y_train)\n",
    "    y_pred = clf.predict(X_test)\n",
    "    print(clf.__class__.__name__ , ': {:.2f}'.format(accuracy_score(y_test, y_pred)))"
   ]
  },
  {
   "cell_type": "code",
   "execution_count": 15,
   "metadata": {},
   "outputs": [
    {
     "name": "stdout",
     "output_type": "stream",
     "text": [
      "\u001b[1mMODEL 1 - ROC AUC SCORE\u001b[0m\n",
      "LogisticRegression : 0.94\n",
      "DecisionTreeClassifier : 0.93\n",
      "KNeighborsClassifier : 0.92\n",
      "VotingClassifier : 0.93\n"
     ]
    },
    {
     "name": "stderr",
     "output_type": "stream",
     "text": [
      "C:\\ProgramData\\Anaconda3\\lib\\site-packages\\sklearn\\preprocessing\\label.py:151: DeprecationWarning: The truth value of an empty array is ambiguous. Returning False, but in future this will result in an error. Use `array.size > 0` to check that an array is not empty.\n",
      "  if diff:\n"
     ]
    }
   ],
   "source": [
    "from sklearn.metrics import roc_auc_score\n",
    "print('\\033[1m' + 'MODEL 1 - ROC AUC SCORE' + '\\033[0m')\n",
    "for clf in (log_clf, dt_clf, knn_clf, voting_clf_mod_1):\n",
    "    clf.fit(X_train, y_train)\n",
    "    y_pred = clf.predict(X_test)\n",
    "    print(clf.__class__.__name__ , ': {:.2f}'.format(roc_auc_score(y_test, y_pred)))"
   ]
  },
  {
   "cell_type": "code",
   "execution_count": 16,
   "metadata": {},
   "outputs": [
    {
     "name": "stdout",
     "output_type": "stream",
     "text": [
      "\u001b[1mMODEL 2 - ACCURACY\u001b[0m\n",
      "LogisticRegression : 0.97\n",
      "DecisionTreeClassifier : 0.96\n",
      "LinearSVC : 0.97\n",
      "VotingClassifier : 0.97\n"
     ]
    },
    {
     "name": "stderr",
     "output_type": "stream",
     "text": [
      "C:\\ProgramData\\Anaconda3\\lib\\site-packages\\sklearn\\preprocessing\\label.py:151: DeprecationWarning: The truth value of an empty array is ambiguous. Returning False, but in future this will result in an error. Use `array.size > 0` to check that an array is not empty.\n",
      "  if diff:\n"
     ]
    }
   ],
   "source": [
    "from sklearn.metrics import accuracy_score\n",
    "print('\\033[1m' + 'MODEL 2 - ACCURACY' + '\\033[0m')\n",
    "for clf in (log_clf, dt_clf, svm_clf, voting_clf_mod_2):\n",
    "    clf.fit(X_train, y_train)\n",
    "    y_pred = clf.predict(X_test)\n",
    "    print(clf.__class__.__name__ , ': {:.2f}'.format(accuracy_score(y_test, y_pred)))"
   ]
  },
  {
   "cell_type": "code",
   "execution_count": 17,
   "metadata": {},
   "outputs": [
    {
     "name": "stdout",
     "output_type": "stream",
     "text": [
      "\u001b[1mMODEL 2 - ROC AUC SCORE\u001b[0m\n",
      "LogisticRegression : 0.94\n",
      "DecisionTreeClassifier : 0.93\n",
      "LinearSVC : 0.93\n",
      "VotingClassifier : 0.93\n"
     ]
    },
    {
     "name": "stderr",
     "output_type": "stream",
     "text": [
      "C:\\ProgramData\\Anaconda3\\lib\\site-packages\\sklearn\\preprocessing\\label.py:151: DeprecationWarning: The truth value of an empty array is ambiguous. Returning False, but in future this will result in an error. Use `array.size > 0` to check that an array is not empty.\n",
      "  if diff:\n"
     ]
    }
   ],
   "source": [
    "from sklearn.metrics import roc_auc_score\n",
    "print('\\033[1m' + 'MODEL 2 - ROC AUC SCORE' + '\\033[0m')\n",
    "for clf in (log_clf, dt_clf, svm_clf, voting_clf_mod_2):\n",
    "    clf.fit(X_train, y_train)\n",
    "    y_pred = clf.predict(X_test)\n",
    "    print(clf.__class__.__name__ , ': {:.2f}'.format(roc_auc_score(y_test, y_pred)))"
   ]
  },
  {
   "cell_type": "markdown",
   "metadata": {},
   "source": [
    "## Voting Classifier Method - Soft"
   ]
  },
  {
   "cell_type": "markdown",
   "metadata": {},
   "source": [
    "_An ensemble method where a collection of several models work together to improve model performance like increasing accuracy and  impoving model fit._\n",
    "_Soft Voting can only be done when all your classifiers can calculate probabilities for the outcomes. Soft voting arrives at the best result by averaging out the probabilities calculated by individual algorithms._\n",
    "_Used KNN, Logistic, Decision Tree and LinearSVC as internal algorithms for the ensemble models_"
   ]
  },
  {
   "cell_type": "code",
   "execution_count": 18,
   "metadata": {},
   "outputs": [
    {
     "data": {
      "text/plain": [
       "VotingClassifier(estimators=[('lr', LogisticRegression(C=10, class_weight=None, dual=False, fit_intercept=True,\n",
       "          intercept_scaling=1, max_iter=100, multi_class='ovr', n_jobs=1,\n",
       "          penalty='l1', random_state=10, solver='liblinear', tol=0.0001,\n",
       "          verbose=0, warm_start=False)), ('dt', DecisionTr... max_iter=1000,\n",
       "     multi_class='ovr', penalty='l1', random_state=10, tol=0.0001,\n",
       "     verbose=0))],\n",
       "         flatten_transform=None, n_jobs=1, voting='soft', weights=None)"
      ]
     },
     "execution_count": 18,
     "metadata": {},
     "output_type": "execute_result"
    }
   ],
   "source": [
    "## Soft Voting Classifier Model 1\n",
    "voting_clf_sft_1 = VotingClassifier(estimators=[('lr', log_clf), ('dt', dt_clf), ('knn', knn_clf)], voting='soft')\n",
    "voting_clf_sft_1.fit(X_train, y_train)\n",
    "## Soft Voting Classifier Model 2\n",
    "voting_clf_sft_2 = VotingClassifier(estimators=[('lr', log_clf), ('dt', dt_clf), ('svm', svm_clf)], voting='soft')\n",
    "voting_clf_sft_2.fit(X_train, y_train)"
   ]
  },
  {
   "cell_type": "code",
   "execution_count": 19,
   "metadata": {},
   "outputs": [
    {
     "name": "stdout",
     "output_type": "stream",
     "text": [
      "\u001b[1mMODEL 1 - ACCURACY\u001b[0m\n",
      "LogisticRegression : 0.97\n",
      "DecisionTreeClassifier : 0.96\n",
      "KNeighborsClassifier : 0.96\n",
      "VotingClassifier : 0.96\n"
     ]
    },
    {
     "name": "stderr",
     "output_type": "stream",
     "text": [
      "C:\\ProgramData\\Anaconda3\\lib\\site-packages\\sklearn\\preprocessing\\label.py:151: DeprecationWarning: The truth value of an empty array is ambiguous. Returning False, but in future this will result in an error. Use `array.size > 0` to check that an array is not empty.\n",
      "  if diff:\n"
     ]
    }
   ],
   "source": [
    "from sklearn.metrics import accuracy_score\n",
    "print('\\033[1m' + 'MODEL 1 - ACCURACY' + '\\033[0m')\n",
    "for clf in (log_clf, dt_clf, knn_clf, voting_clf_mod_1):\n",
    "    clf.fit(X_train, y_train)\n",
    "    y_pred = clf.predict(X_test)\n",
    "    print(clf.__class__.__name__ , ': {:.2f}'.format(accuracy_score(y_test, y_pred)))"
   ]
  },
  {
   "cell_type": "code",
   "execution_count": 20,
   "metadata": {},
   "outputs": [
    {
     "name": "stdout",
     "output_type": "stream",
     "text": [
      "\u001b[1mMODEL 1 - ROC AUC SCORE\u001b[0m\n",
      "LogisticRegression : 0.94\n",
      "DecisionTreeClassifier : 0.93\n",
      "KNeighborsClassifier : 0.92\n",
      "VotingClassifier : 0.93\n"
     ]
    },
    {
     "name": "stderr",
     "output_type": "stream",
     "text": [
      "C:\\ProgramData\\Anaconda3\\lib\\site-packages\\sklearn\\preprocessing\\label.py:151: DeprecationWarning: The truth value of an empty array is ambiguous. Returning False, but in future this will result in an error. Use `array.size > 0` to check that an array is not empty.\n",
      "  if diff:\n"
     ]
    }
   ],
   "source": [
    "from sklearn.metrics import roc_auc_score\n",
    "print('\\033[1m' + 'MODEL 1 - ROC AUC SCORE' + '\\033[0m')\n",
    "for clf in (log_clf, dt_clf, knn_clf, voting_clf_mod_1):\n",
    "    clf.fit(X_train, y_train)\n",
    "    y_pred = clf.predict(X_test)\n",
    "    print(clf.__class__.__name__ , ': {:.2f}'.format(roc_auc_score(y_test, y_pred)))"
   ]
  },
  {
   "cell_type": "code",
   "execution_count": 21,
   "metadata": {},
   "outputs": [
    {
     "name": "stdout",
     "output_type": "stream",
     "text": [
      "\u001b[1mMODEL 2 - ACCURACY\u001b[0m\n",
      "LogisticRegression : 0.97\n",
      "DecisionTreeClassifier : 0.96\n",
      "LinearSVC : 0.97\n",
      "VotingClassifier : 0.97\n"
     ]
    },
    {
     "name": "stderr",
     "output_type": "stream",
     "text": [
      "C:\\ProgramData\\Anaconda3\\lib\\site-packages\\sklearn\\preprocessing\\label.py:151: DeprecationWarning: The truth value of an empty array is ambiguous. Returning False, but in future this will result in an error. Use `array.size > 0` to check that an array is not empty.\n",
      "  if diff:\n"
     ]
    }
   ],
   "source": [
    "from sklearn.metrics import accuracy_score\n",
    "print('\\033[1m' + 'MODEL 2 - ACCURACY' + '\\033[0m')\n",
    "for clf in (log_clf, dt_clf, svm_clf, voting_clf_mod_2):\n",
    "    clf.fit(X_train, y_train)\n",
    "    y_pred = clf.predict(X_test)\n",
    "    print(clf.__class__.__name__ , ': {:.2f}'.format(accuracy_score(y_test, y_pred)))"
   ]
  },
  {
   "cell_type": "code",
   "execution_count": 22,
   "metadata": {},
   "outputs": [
    {
     "name": "stdout",
     "output_type": "stream",
     "text": [
      "\u001b[1mMODEL 2 - ROC AUC SCORE\u001b[0m\n",
      "LogisticRegression : 0.94\n",
      "DecisionTreeClassifier : 0.93\n",
      "LinearSVC : 0.93\n",
      "VotingClassifier : 0.93\n"
     ]
    },
    {
     "name": "stderr",
     "output_type": "stream",
     "text": [
      "C:\\ProgramData\\Anaconda3\\lib\\site-packages\\sklearn\\preprocessing\\label.py:151: DeprecationWarning: The truth value of an empty array is ambiguous. Returning False, but in future this will result in an error. Use `array.size > 0` to check that an array is not empty.\n",
      "  if diff:\n"
     ]
    }
   ],
   "source": [
    "from sklearn.metrics import roc_auc_score\n",
    "print('\\033[1m' + 'MODEL 2 - ROC AUC SCORE' + '\\033[0m')\n",
    "for clf in (log_clf, dt_clf, svm_clf, voting_clf_mod_2):\n",
    "    clf.fit(X_train, y_train)\n",
    "    y_pred = clf.predict(X_test)\n",
    "    print(clf.__class__.__name__ , ': {:.2f}'.format(roc_auc_score(y_test, y_pred)))"
   ]
  },
  {
   "cell_type": "markdown",
   "metadata": {},
   "source": [
    "## Bagging Classifier - Decision Tree Classifier"
   ]
  },
  {
   "cell_type": "markdown",
   "metadata": {},
   "source": [
    "_Bagging runs a single model over various random subsets of the dataset.Nothing but random sampling with replacement. Here a decision tree classifier is the model considered for Bagging_"
   ]
  },
  {
   "cell_type": "code",
   "execution_count": 23,
   "metadata": {},
   "outputs": [],
   "source": [
    "from sklearn.ensemble import BaggingClassifier\n",
    "dt_bag_clf = BaggingClassifier(dt_clf, n_estimators=500, max_samples=100, bootstrap=True, n_jobs=-1, random_state=10)\n",
    "dt_bag_clf.fit(X_train, y_train)\n",
    "y_pred = dt_bag_clf.predict(X_test)"
   ]
  },
  {
   "cell_type": "code",
   "execution_count": 24,
   "metadata": {},
   "outputs": [
    {
     "name": "stdout",
     "output_type": "stream",
     "text": [
      "Decision Tree - Accuracy Train score: 0.97\n",
      "Decision Tree - Accuracy Test score: 0.96\n"
     ]
    }
   ],
   "source": [
    "print('Decision Tree - Accuracy Train score: {:.2f}'.format(dt_bag_clf.score(X_train, y_train)))\n",
    "print('Decision Tree - Accuracy Test score: {:.2f}'.format(dt_bag_clf.score(X_test, y_test)))"
   ]
  },
  {
   "cell_type": "code",
   "execution_count": 25,
   "metadata": {},
   "outputs": [],
   "source": [
    "dt_auc_train = roc_auc_score(y_train,dt_bag_clf.predict(X_train))\n",
    "dt_auc_test = roc_auc_score(y_test,dt_bag_clf.predict(X_test))"
   ]
  },
  {
   "cell_type": "code",
   "execution_count": 26,
   "metadata": {},
   "outputs": [
    {
     "name": "stdout",
     "output_type": "stream",
     "text": [
      "Decision Tree - Train ROC AUC score: 0.94\n",
      "Decision Tree - Test score: 0.94\n"
     ]
    }
   ],
   "source": [
    "print('Decision Tree - Train ROC AUC score: {:.2f}'.format(dt_auc_train))\n",
    "print('Decision Tree - Test score: {:.2f}'.format(dt_auc_test))"
   ]
  },
  {
   "cell_type": "markdown",
   "metadata": {},
   "source": [
    "## Bagging Classifier - Logistic Regression Classifier"
   ]
  },
  {
   "cell_type": "markdown",
   "metadata": {},
   "source": [
    "_Logistic regression classifier is taken as internal model for performing Bagging_"
   ]
  },
  {
   "cell_type": "code",
   "execution_count": 27,
   "metadata": {},
   "outputs": [],
   "source": [
    "lr_bag_clf = BaggingClassifier(log_clf, n_estimators=500, max_samples=100, bootstrap=True, n_jobs=-1, random_state=10)\n",
    "lr_bag_clf.fit(X_train, y_train)\n",
    "y_pred = lr_bag_clf.predict(X_test)"
   ]
  },
  {
   "cell_type": "code",
   "execution_count": 28,
   "metadata": {},
   "outputs": [
    {
     "name": "stdout",
     "output_type": "stream",
     "text": [
      "Logistic Regression Classifier - Accuracy Train score: 0.92\n",
      "Logistic Regression Classifier - Accuracy Test score: 0.92\n"
     ]
    }
   ],
   "source": [
    "print('Logistic Regression Classifier - Accuracy Train score: {:.2f}'.format(lr_bag_clf.score(X_train, y_train)))\n",
    "print('Logistic Regression Classifier - Accuracy Test score: {:.2f}'.format(lr_bag_clf.score(X_test, y_test)))"
   ]
  },
  {
   "cell_type": "code",
   "execution_count": 29,
   "metadata": {},
   "outputs": [],
   "source": [
    "lr_auc_train = roc_auc_score(y_train,lr_bag_clf.predict(X_train))\n",
    "lr_auc_test = roc_auc_score(y_test,lr_bag_clf.predict(X_test))"
   ]
  },
  {
   "cell_type": "code",
   "execution_count": 30,
   "metadata": {},
   "outputs": [
    {
     "name": "stdout",
     "output_type": "stream",
     "text": [
      "Logistic Regression - Train ROC AUC score: 0.94\n",
      "Logistic Regression - Test ROC AUC  score: 0.94\n"
     ]
    }
   ],
   "source": [
    "print('Logistic Regression - Train ROC AUC score: {:.2f}'.format(dt_auc_train))\n",
    "print('Logistic Regression - Test ROC AUC  score: {:.2f}'.format(dt_auc_test))"
   ]
  },
  {
   "cell_type": "markdown",
   "metadata": {},
   "source": [
    "## Pasting Classifier - Decision Tree Classifier"
   ]
  },
  {
   "cell_type": "markdown",
   "metadata": {},
   "source": [
    "_Bagging without replacement is called Pasting_"
   ]
  },
  {
   "cell_type": "code",
   "execution_count": 31,
   "metadata": {},
   "outputs": [],
   "source": [
    "from sklearn.ensemble import BaggingClassifier\n",
    "dt_past_clf = BaggingClassifier(dt_clf, n_estimators=500, max_samples=100, bootstrap=False, n_jobs=-1, random_state=10)\n",
    "dt_past_clf.fit(X_train, y_train)\n",
    "y_pred = dt_past_clf.predict(X_test)"
   ]
  },
  {
   "cell_type": "code",
   "execution_count": 32,
   "metadata": {},
   "outputs": [
    {
     "name": "stdout",
     "output_type": "stream",
     "text": [
      "Decision Tree - Accuracy Train score: 0.97\n",
      "Decision Tree - Accuracy Test score: 0.96\n"
     ]
    }
   ],
   "source": [
    "print('Decision Tree - Accuracy Train score: {:.2f}'.format(dt_past_clf.score(X_train, y_train)))\n",
    "print('Decision Tree - Accuracy Test score: {:.2f}'.format(dt_past_clf.score(X_test, y_test)))"
   ]
  },
  {
   "cell_type": "code",
   "execution_count": 33,
   "metadata": {},
   "outputs": [],
   "source": [
    "dt_auc_train = roc_auc_score(y_train,dt_past_clf.predict(X_train))\n",
    "dt_auc_test = roc_auc_score(y_test,dt_past_clf.predict(X_test))"
   ]
  },
  {
   "cell_type": "code",
   "execution_count": 34,
   "metadata": {},
   "outputs": [
    {
     "name": "stdout",
     "output_type": "stream",
     "text": [
      "Decision Tree - Train ROC AUC score: 0.94\n",
      "Decision Tree - Test score: 0.94\n"
     ]
    }
   ],
   "source": [
    "print('Decision Tree - Train ROC AUC score: {:.2f}'.format(dt_auc_train))\n",
    "print('Decision Tree - Test score: {:.2f}'.format(dt_auc_test))"
   ]
  },
  {
   "cell_type": "markdown",
   "metadata": {},
   "source": [
    "## Pasting Classifier - Logistic Regression Classifier"
   ]
  },
  {
   "cell_type": "code",
   "execution_count": 35,
   "metadata": {},
   "outputs": [],
   "source": [
    "lr_past_clf = BaggingClassifier(log_clf, n_estimators=500, max_samples=100, bootstrap=False, n_jobs=-1, random_state=10)\n",
    "lr_past_clf.fit(X_train, y_train)\n",
    "y_pred = lr_past_clf.predict(X_test)"
   ]
  },
  {
   "cell_type": "code",
   "execution_count": 36,
   "metadata": {},
   "outputs": [
    {
     "name": "stdout",
     "output_type": "stream",
     "text": [
      "Logistic Regression Classifier - Accuracy Train score: 0.92\n",
      "Logistic Regression Classifier - Accuracy Test score: 0.92\n"
     ]
    }
   ],
   "source": [
    "print('Logistic Regression Classifier - Accuracy Train score: {:.2f}'.format(lr_past_clf.score(X_train, y_train)))\n",
    "print('Logistic Regression Classifier - Accuracy Test score: {:.2f}'.format(lr_past_clf.score(X_test, y_test)))"
   ]
  },
  {
   "cell_type": "code",
   "execution_count": 37,
   "metadata": {},
   "outputs": [],
   "source": [
    "lr_auc_train = roc_auc_score(y_train,lr_past_clf.predict(X_train))\n",
    "lr_auc_test = roc_auc_score(y_test,lr_past_clf.predict(X_test))"
   ]
  },
  {
   "cell_type": "code",
   "execution_count": 38,
   "metadata": {},
   "outputs": [
    {
     "name": "stdout",
     "output_type": "stream",
     "text": [
      "Logistic Regression - Train ROC AUC score: 0.79\n",
      "Logistic Regression - Test ROC AUC  score: 0.79\n"
     ]
    }
   ],
   "source": [
    "print('Logistic Regression - Train ROC AUC score: {:.2f}'.format(lr_auc_train))\n",
    "print('Logistic Regression - Test ROC AUC  score: {:.2f}'.format(lr_auc_test))"
   ]
  },
  {
   "cell_type": "markdown",
   "metadata": {},
   "source": [
    "## AdaBoost  - Logistic Regression Classifier"
   ]
  },
  {
   "cell_type": "markdown",
   "metadata": {},
   "source": [
    "_AdaBoost - In simple terms, Run a Classifier and make predictions. Run another classifier to fit the previously misclassified instances and make predictions. Repeat until all/most of the training instances are fitted. Here, we have considere logistic regression as base classifier._"
   ]
  },
  {
   "cell_type": "code",
   "execution_count": 39,
   "metadata": {},
   "outputs": [
    {
     "data": {
      "text/plain": [
       "AdaBoostClassifier(algorithm='SAMME.R',\n",
       "          base_estimator=LogisticRegression(C=10, class_weight=None, dual=False, fit_intercept=True,\n",
       "          intercept_scaling=1, max_iter=100, multi_class='ovr', n_jobs=1,\n",
       "          penalty='l1', random_state=10, solver='liblinear', tol=0.0001,\n",
       "          verbose=0, warm_start=False),\n",
       "          learning_rate=0.5, n_estimators=200, random_state=10)"
      ]
     },
     "execution_count": 39,
     "metadata": {},
     "output_type": "execute_result"
    }
   ],
   "source": [
    "from sklearn.ensemble import AdaBoostClassifier\n",
    "lr_ada_clf = AdaBoostClassifier(log_clf, n_estimators=200, algorithm=\"SAMME.R\", learning_rate=0.5, random_state=10)\n",
    "lr_ada_clf.fit(X_train, y_train)"
   ]
  },
  {
   "cell_type": "code",
   "execution_count": 40,
   "metadata": {},
   "outputs": [
    {
     "name": "stdout",
     "output_type": "stream",
     "text": [
      "Logistic Regression Classifier - Accuracy Train score: 0.81\n",
      "Logistic Regression Classifier - Accuracy Test score: 0.80\n"
     ]
    }
   ],
   "source": [
    "print('Logistic Regression Classifier - Accuracy Train score: {:.2f}'.format(lr_ada_clf.score(X_train, y_train)))\n",
    "print('Logistic Regression Classifier - Accuracy Test score: {:.2f}'.format(lr_ada_clf.score(X_test, y_test)))"
   ]
  },
  {
   "cell_type": "code",
   "execution_count": 41,
   "metadata": {},
   "outputs": [],
   "source": [
    "lr_ada_auc_train = roc_auc_score(y_train,lr_ada_clf.predict(X_train))\n",
    "lr_ada_auc_test = roc_auc_score(y_test,lr_ada_clf.predict(X_test))"
   ]
  },
  {
   "cell_type": "code",
   "execution_count": 42,
   "metadata": {},
   "outputs": [
    {
     "name": "stdout",
     "output_type": "stream",
     "text": [
      "Logistic Regression - Train ROC AUC score: 0.50\n",
      "Logistic Regression - Test ROC AUC  score: 0.50\n"
     ]
    }
   ],
   "source": [
    "print('Logistic Regression - Train ROC AUC score: {:.2f}'.format(lr_ada_auc_train))\n",
    "print('Logistic Regression - Test ROC AUC  score: {:.2f}'.format(lr_ada_auc_test))"
   ]
  },
  {
   "cell_type": "markdown",
   "metadata": {},
   "source": [
    "## AdaBoost  - Decision Tree Classifier"
   ]
  },
  {
   "cell_type": "markdown",
   "metadata": {},
   "source": [
    "_Here we have taken a decision tree classifer as the base classifier. It was one of our best models in Project2_"
   ]
  },
  {
   "cell_type": "code",
   "execution_count": 43,
   "metadata": {},
   "outputs": [
    {
     "data": {
      "text/plain": [
       "AdaBoostClassifier(algorithm='SAMME.R',\n",
       "          base_estimator=DecisionTreeClassifier(class_weight=None, criterion='gini', max_depth=5,\n",
       "            max_features=7, max_leaf_nodes=None, min_impurity_decrease=0.0,\n",
       "            min_impurity_split=None, min_samples_leaf=1,\n",
       "            min_samples_split=2, min_weight_fraction_leaf=0.0,\n",
       "            presort=False, random_state=10, splitter='best'),\n",
       "          learning_rate=0.5, n_estimators=200, random_state=10)"
      ]
     },
     "execution_count": 43,
     "metadata": {},
     "output_type": "execute_result"
    }
   ],
   "source": [
    "dt_ada_clf = AdaBoostClassifier(dt_clf, n_estimators=200, algorithm=\"SAMME.R\", learning_rate=0.5, random_state=10)\n",
    "dt_ada_clf.fit(X_train, y_train)"
   ]
  },
  {
   "cell_type": "code",
   "execution_count": 44,
   "metadata": {},
   "outputs": [
    {
     "name": "stdout",
     "output_type": "stream",
     "text": [
      "Decision Tree Classifier - Accuracy Train score: 1.00\n",
      "Decision Tree Classifier - Accuracy Test score: 0.96\n"
     ]
    }
   ],
   "source": [
    "print('Decision Tree Classifier - Accuracy Train score: {:.2f}'.format(dt_ada_clf.score(X_train, y_train)))\n",
    "print('Decision Tree Classifier - Accuracy Test score: {:.2f}'.format(dt_ada_clf.score(X_test, y_test)))"
   ]
  },
  {
   "cell_type": "code",
   "execution_count": 45,
   "metadata": {},
   "outputs": [],
   "source": [
    "dt_ada_auc_train = roc_auc_score(y_train,dt_ada_clf.predict(X_train))\n",
    "dt_ada_auc_test = roc_auc_score(y_test,dt_ada_clf.predict(X_test))"
   ]
  },
  {
   "cell_type": "code",
   "execution_count": 46,
   "metadata": {},
   "outputs": [
    {
     "name": "stdout",
     "output_type": "stream",
     "text": [
      "Decision Tree Classifier - Train ROC AUC score: 1.00\n",
      "Decision Tree Classifier - Test ROC AUC  score: 0.94\n"
     ]
    }
   ],
   "source": [
    "print('Decision Tree Classifier - Train ROC AUC score: {:.2f}'.format(dt_ada_auc_train))\n",
    "print('Decision Tree Classifier - Test ROC AUC  score: {:.2f}'.format(dt_ada_auc_test))"
   ]
  },
  {
   "cell_type": "markdown",
   "metadata": {},
   "source": [
    "## Gradient Boosting Classifier"
   ]
  },
  {
   "cell_type": "markdown",
   "metadata": {},
   "source": [
    "_A tuned version of AdaBoost is Gradient Boosting technique where instead of updating the weights of the training instances a Gradient Boosting classifer fits the new model to the residual errors._"
   ]
  },
  {
   "cell_type": "code",
   "execution_count": 47,
   "metadata": {},
   "outputs": [
    {
     "data": {
      "text/plain": [
       "GradientBoostingClassifier(criterion='friedman_mse', init=None,\n",
       "              learning_rate=0.1, loss='deviance', max_depth=3,\n",
       "              max_features=None, max_leaf_nodes=None,\n",
       "              min_impurity_decrease=0.0, min_impurity_split=None,\n",
       "              min_samples_leaf=1, min_samples_split=2,\n",
       "              min_weight_fraction_leaf=0.0, n_estimators=100,\n",
       "              presort='auto', random_state=10, subsample=1.0, verbose=0,\n",
       "              warm_start=False)"
      ]
     },
     "execution_count": 47,
     "metadata": {},
     "output_type": "execute_result"
    }
   ],
   "source": [
    "from sklearn.ensemble import GradientBoostingClassifier\n",
    "gbrt = GradientBoostingClassifier(random_state=10)\n",
    "gbrt.fit(X_train, y_train)"
   ]
  },
  {
   "cell_type": "code",
   "execution_count": 48,
   "metadata": {},
   "outputs": [
    {
     "name": "stdout",
     "output_type": "stream",
     "text": [
      "Gradient Boosting Classifier - Accuracy Train score: 0.98\n",
      "Gradient Boosting Classifier - Accuracy Test score: 0.97\n"
     ]
    }
   ],
   "source": [
    "print('Gradient Boosting Classifier - Accuracy Train score: {:.2f}'.format(gbrt.score(X_train, y_train)))\n",
    "print('Gradient Boosting Classifier - Accuracy Test score: {:.2f}'.format(gbrt.score(X_test, y_test)))"
   ]
  },
  {
   "cell_type": "code",
   "execution_count": 49,
   "metadata": {},
   "outputs": [],
   "source": [
    "gbrt_auc_train = roc_auc_score(y_train,gbrt.predict(X_train))\n",
    "gbrt_auc_test = roc_auc_score(y_test,gbrt.predict(X_test))"
   ]
  },
  {
   "cell_type": "code",
   "execution_count": 50,
   "metadata": {},
   "outputs": [
    {
     "name": "stdout",
     "output_type": "stream",
     "text": [
      "Gradient Boosting Classifier - Train ROC AUC score: 0.97\n",
      "Gradient Boosting Classifier - Test ROC AUC  score: 0.95\n"
     ]
    }
   ],
   "source": [
    "print('Gradient Boosting Classifier - Train ROC AUC score: {:.2f}'.format(gbrt_auc_train))\n",
    "print('Gradient Boosting Classifier - Test ROC AUC  score: {:.2f}'.format(gbrt_auc_test))"
   ]
  },
  {
   "cell_type": "markdown",
   "metadata": {},
   "source": [
    "## PCA\n"
   ]
  },
  {
   "cell_type": "markdown",
   "metadata": {},
   "source": [
    "_Principal Components Analysis is dimensionality reduction technique which reduces the number of features to 'n' principal components that captures the maximum variation in the dataset. A linear PCA has been applied to the dataset and all basic classification models are run on top of this data. Finally, a comparison is made between models run over PCA applied dataset and without PCA applied dataset._"
   ]
  },
  {
   "cell_type": "code",
   "execution_count": 51,
   "metadata": {},
   "outputs": [
    {
     "name": "stdout",
     "output_type": "stream",
     "text": [
      "[43.75 59.16 68.69 77.92 86.72 92.85 96.69 99.   99.14 99.23 99.31 99.39\n",
      " 99.46 99.52 99.58]\n"
     ]
    }
   ],
   "source": [
    "from sklearn.decomposition import PCA\n",
    "pca=PCA(n_components=15)\n",
    "pca.fit(X_train)\n",
    "var = pca.explained_variance_ratio_\n",
    "var1 = np.cumsum(np.round(pca.explained_variance_ratio_,decimals=4)*100)\n",
    "print(var1)"
   ]
  },
  {
   "cell_type": "code",
   "execution_count": 52,
   "metadata": {},
   "outputs": [
    {
     "data": {
      "text/plain": [
       "[<matplotlib.lines.Line2D at 0x246f3f152b0>]"
      ]
     },
     "execution_count": 52,
     "metadata": {},
     "output_type": "execute_result"
    },
    {
     "data": {
      "image/png": "[encoded data removed]",
      "text/plain": [
       "<Figure size 432x288 with 1 Axes>"
      ]
     },
     "metadata": {},
     "output_type": "display_data"
    }
   ],
   "source": [
    "plt.plot(var1)"
   ]
  },
  {
   "cell_type": "code",
   "execution_count": 53,
   "metadata": {},
   "outputs": [
    {
     "data": {
      "text/plain": [
       "7"
      ]
     },
     "execution_count": 53,
     "metadata": {},
     "output_type": "execute_result"
    }
   ],
   "source": [
    "cumsum = np.cumsum(pca.explained_variance_ratio_)\n",
    "d = np.argmax(cumsum >= 0.95) + 1\n",
    "d"
   ]
  },
  {
   "cell_type": "code",
   "execution_count": 54,
   "metadata": {},
   "outputs": [],
   "source": [
    "pca = PCA(n_components=d)\n",
    "X_train_pca = pca.fit_transform(X_train)\n",
    "X_test_pca = pca.transform(X_test)"
   ]
  },
  {
   "cell_type": "code",
   "execution_count": 55,
   "metadata": {},
   "outputs": [
    {
     "data": {
      "text/plain": [
       "(11256, 7)"
      ]
     },
     "execution_count": 55,
     "metadata": {},
     "output_type": "execute_result"
    }
   ],
   "source": [
    "X_train_pca.shape"
   ]
  },
  {
   "cell_type": "code",
   "execution_count": 56,
   "metadata": {},
   "outputs": [
    {
     "data": {
      "text/plain": [
       "(2815, 7)"
      ]
     },
     "execution_count": 56,
     "metadata": {},
     "output_type": "execute_result"
    }
   ],
   "source": [
    "X_test_pca.shape"
   ]
  },
  {
   "cell_type": "markdown",
   "metadata": {},
   "source": [
    "## Visualize Train and Test Accuracy Scores"
   ]
  },
  {
   "cell_type": "code",
   "execution_count": 57,
   "metadata": {},
   "outputs": [],
   "source": [
    "def grid_train_test_plot(df,col,train,test,title,xlabel,ylabel,width,height,flag):\n",
    "    fig = plt.figure(figsize=(width,height))\n",
    "    x=len(df[col])\n",
    "    x_label=df[col].unique()\n",
    "    ax = fig.add_subplot(111,facecolor='white')\n",
    "    ax.plot(df[col], df[train], c = 'g', linewidth=2, alpha=0.7,label='Train Accuracy Score')\n",
    "    ax.plot(df[col], df[test], c = 'b',linewidth=2, alpha=0.7,label='Test Accuracy Score')\n",
    "    ax.scatter(df[col], df[train], c = 'g', alpha=0.7,label='Train Accuracy Score')\n",
    "    ax.scatter(df[col], df[test], c = 'b',alpha=0.7,label='Test Accuracy Score')\n",
    "    if(flag=='show'):\n",
    "        for i,j in zip(df[col],round(df[train],3)):\n",
    "            ax.annotate(str(j),xy=(i,j),color='black')\n",
    "        for i,j in zip(df[col],round(df[test],3)):\n",
    "            ax.annotate(str(j),xy=(i,j),color='black')\n",
    "    ax.legend()\n",
    "    plt.grid(zorder=0)\n",
    "    ax.set_title(title,fontsize=20,weight='bold')\n",
    "    ax.set_xlabel(xlabel,fontsize=10,weight='bold')\n",
    "    ax.set_ylabel(ylabel,fontsize=10,weight='bold')\n",
    "    handles, labels = ax.get_legend_handles_labels()\n",
    "    plt.show()"
   ]
  },
  {
   "cell_type": "markdown",
   "metadata": {},
   "source": [
    "## K Neighbors Classifier"
   ]
  },
  {
   "cell_type": "markdown",
   "metadata": {},
   "source": [
    "In kNN classification algorithm, an object is classified by a majority vote of its neighbors based on the k closest training examples in the feature space."
   ]
  },
  {
   "cell_type": "code",
   "execution_count": 58,
   "metadata": {},
   "outputs": [],
   "source": [
    "knn_param_grid = {'n_neighbors': list(np.arange(1,11))}"
   ]
  },
  {
   "cell_type": "code",
   "execution_count": 59,
   "metadata": {},
   "outputs": [
    {
     "name": "stdout",
     "output_type": "stream",
     "text": [
      "Fitting 5 folds for each of 10 candidates, totalling 50 fits\n"
     ]
    },
    {
     "name": "stderr",
     "output_type": "stream",
     "text": [
      "[Parallel(n_jobs=-1)]: Done   2 tasks      | elapsed:    4.4s\n",
      "[Parallel(n_jobs=-1)]: Done   9 tasks      | elapsed:   16.2s\n",
      "[Parallel(n_jobs=-1)]: Done  16 tasks      | elapsed:   16.5s\n",
      "[Parallel(n_jobs=-1)]: Done  25 tasks      | elapsed:   17.0s\n",
      "[Parallel(n_jobs=-1)]: Done  34 tasks      | elapsed:   17.7s\n",
      "[Parallel(n_jobs=-1)]: Done  41 out of  50 | elapsed:   18.2s remaining:    3.9s\n",
      "[Parallel(n_jobs=-1)]: Done  47 out of  50 | elapsed:   18.5s remaining:    1.1s\n",
      "[Parallel(n_jobs=-1)]: Done  50 out of  50 | elapsed:   18.7s finished\n"
     ]
    },
    {
     "name": "stdout",
     "output_type": "stream",
     "text": [
      "Best Parameters : {'n_neighbors': 10}\n",
      "Best cross_val score : 0.9565855762714941\n"
     ]
    }
   ],
   "source": [
    "from sklearn.model_selection import GridSearchCV\n",
    "from sklearn.neighbors import KNeighborsClassifier\n",
    "\n",
    "knn_grid_search = GridSearchCV(KNeighborsClassifier(), knn_param_grid, cv=5, scoring='roc_auc', n_jobs = -1,verbose=10)\n",
    "knn_grid_search.fit(X_train_pca, y_train)\n",
    "print(\"Best Parameters : {}\".format(knn_grid_search.best_params_))\n",
    "print(\"Best cross_val score : {}\".format(knn_grid_search.best_score_))"
   ]
  },
  {
   "cell_type": "code",
   "execution_count": 60,
   "metadata": {},
   "outputs": [],
   "source": [
    "knnclassresults = pd.DataFrame(knn_grid_search.cv_results_)"
   ]
  },
  {
   "cell_type": "code",
   "execution_count": 61,
   "metadata": {},
   "outputs": [
    {
     "name": "stderr",
     "output_type": "stream",
     "text": [
      "C:\\ProgramData\\Anaconda3\\lib\\site-packages\\sklearn\\model_selection\\_search.py:761: DeprecationWarning: The grid_scores_ attribute was deprecated in version 0.18 in favor of the more elaborate cv_results_ attribute. The grid_scores_ attribute will not be available from 0.20\n",
      "  DeprecationWarning)\n"
     ]
    },
    {
     "data": {
      "text/plain": [
       "Text(0,0.5,'Cross-Validated Accuracy')"
      ]
     },
     "execution_count": 61,
     "metadata": {},
     "output_type": "execute_result"
    },
    {
     "data": {
      "image/png": "[encoded data removed]",
      "text/plain": [
       "<Figure size 432x288 with 1 Axes>"
      ]
     },
     "metadata": {},
     "output_type": "display_data"
    }
   ],
   "source": [
    "grid_mean_scores = [result.mean_validation_score for result in knn_grid_search.grid_scores_]\n",
    "plt.plot(np.arange(1,11,1), grid_mean_scores)\n",
    "plt.xlabel('n Neighbors for KNN')\n",
    "plt.ylabel('Cross-Validated Accuracy')"
   ]
  },
  {
   "cell_type": "code",
   "execution_count": 62,
   "metadata": {},
   "outputs": [
    {
     "name": "stdout",
     "output_type": "stream",
     "text": [
      "K Neighbors Classifier - Train Accuracy: 0.94\n",
      "K Neighbors Classifier - Test Accuracy: 0.93 \n"
     ]
    }
   ],
   "source": [
    "knn_accuracy_train = knn_grid_search.best_estimator_.score(X_train_pca, y_train)\n",
    "knn_accuracy_test = knn_grid_search.best_estimator_.score(X_test_pca, y_test)\n",
    "\n",
    "print('K Neighbors Classifier - Train Accuracy: %.2f'%knn_accuracy_train)\n",
    "print('K Neighbors Classifier - Test Accuracy: %.2f '%knn_accuracy_test)"
   ]
  },
  {
   "cell_type": "code",
   "execution_count": 63,
   "metadata": {},
   "outputs": [
    {
     "name": "stdout",
     "output_type": "stream",
     "text": [
      "K Neighbors Classifier - Train roc_auc_score: 0.88\n",
      "K Neighbors Classifier - Test roc_auc_score: 0.87 \n"
     ]
    }
   ],
   "source": [
    "knn_auc_train = roc_auc_score(y_train,knn_grid_search.predict(X_train_pca))\n",
    "knn_auc_test = roc_auc_score(y_test,knn_grid_search.predict(X_test_pca))\n",
    "\n",
    "print('K Neighbors Classifier - Train roc_auc_score: %.2f'%knn_auc_train)\n",
    "print('K Neighbors Classifier - Test roc_auc_score: %.2f '%knn_auc_test)"
   ]
  },
  {
   "cell_type": "code",
   "execution_count": 64,
   "metadata": {},
   "outputs": [
    {
     "data": {
      "image/png": "[encoded data removed]",
      "text/plain": [
       "<Figure size 1008x432 with 1 Axes>"
      ]
     },
     "metadata": {},
     "output_type": "display_data"
    }
   ],
   "source": [
    "grid_train_test_plot(knnclassresults,'param_n_neighbors','mean_train_score','mean_test_score','Grid Search Train Test Plot','KNN - n_neighbors','Scores',14,6,'show')"
   ]
  },
  {
   "cell_type": "code",
   "execution_count": 65,
   "metadata": {},
   "outputs": [],
   "source": [
    "report_table = [['K Neighbors Classifier', str(knn_grid_search.best_params_).replace('{','').replace('}','').replace('\\'',''), knn_accuracy_train, knn_accuracy_test, knn_auc_train, knn_auc_test]]"
   ]
  },
  {
   "cell_type": "markdown",
   "metadata": {},
   "source": [
    " ## Logistic Regression Classifier"
   ]
  },
  {
   "cell_type": "markdown",
   "metadata": {},
   "source": [
    "Logistic Regression works with binary data, if there is a Buzz (1) or not (0). Logistic model is based on the probability of an event occurring."
   ]
  },
  {
   "cell_type": "code",
   "execution_count": 66,
   "metadata": {},
   "outputs": [],
   "source": [
    "lr_param_grid = {'C': [0.001, 0.01, 0.1, 1, 10, 100],'penalty': ['l1','l2']}"
   ]
  },
  {
   "cell_type": "code",
   "execution_count": 67,
   "metadata": {},
   "outputs": [
    {
     "name": "stdout",
     "output_type": "stream",
     "text": [
      "Fitting 5 folds for each of 12 candidates, totalling 60 fits\n"
     ]
    },
    {
     "name": "stderr",
     "output_type": "stream",
     "text": [
      "[Parallel(n_jobs=-1)]: Done   2 tasks      | elapsed:    4.7s\n",
      "[Parallel(n_jobs=-1)]: Done   9 tasks      | elapsed:   17.4s\n",
      "[Parallel(n_jobs=-1)]: Done  16 tasks      | elapsed:   17.5s\n",
      "[Parallel(n_jobs=-1)]: Done  25 tasks      | elapsed:   17.6s\n",
      "[Parallel(n_jobs=-1)]: Done  34 tasks      | elapsed:   18.1s\n",
      "[Parallel(n_jobs=-1)]: Done  45 tasks      | elapsed:   18.7s\n",
      "[Parallel(n_jobs=-1)]: Done  52 out of  60 | elapsed:   19.2s remaining:    2.9s\n",
      "[Parallel(n_jobs=-1)]: Done  60 out of  60 | elapsed:   19.4s finished\n"
     ]
    },
    {
     "name": "stdout",
     "output_type": "stream",
     "text": [
      "Best Parameters : {'C': 100, 'penalty': 'l2'}\n",
      "Best cross_val score : 0.8668619788997508\n"
     ]
    }
   ],
   "source": [
    "from sklearn.linear_model import LogisticRegression\n",
    "\n",
    "lr_grid_search = GridSearchCV(LogisticRegression(random_state = 10), lr_param_grid, cv=5, scoring='roc_auc', n_jobs = -1,verbose=10)\n",
    "lr_grid_search.fit(X_train_pca, y_train)\n",
    "print(\"Best Parameters : {}\".format(lr_grid_search.best_params_))\n",
    "print(\"Best cross_val score : {}\".format(lr_grid_search.best_score_))"
   ]
  },
  {
   "cell_type": "code",
   "execution_count": 68,
   "metadata": {},
   "outputs": [],
   "source": [
    "lrclassresults = pd.DataFrame(lr_grid_search.cv_results_)\n",
    "lrclassresults['identifier_name'] = lrclassresults.params.apply(lambda x: str(x).replace('{','').replace('}',''))\n",
    "lrclassresults['identifier'] = (lrclassresults.index)"
   ]
  },
  {
   "cell_type": "code",
   "execution_count": 69,
   "metadata": {},
   "outputs": [
    {
     "data": {
      "image/png": "[encoded data removed]",
      "text/plain": [
       "<Figure size 1008x432 with 1 Axes>"
      ]
     },
     "metadata": {},
     "output_type": "display_data"
    },
    {
     "data": {
      "text/html": [
       "<div>\n",
       "<style scoped>\n",
       "    .dataframe tbody tr th:only-of-type {\n",
       "        vertical-align: middle;\n",
       "    }\n",
       "\n",
       "    .dataframe tbody tr th {\n",
       "        vertical-align: top;\n",
       "    }\n",
       "\n",
       "    .dataframe thead th {\n",
       "        text-align: right;\n",
       "    }\n",
       "</style>\n",
       "<table border=\"1\" class=\"dataframe\">\n",
       "  <thead>\n",
       "    <tr style=\"text-align: right;\">\n",
       "      <th></th>\n",
       "      <th>0</th>\n",
       "      <th>1</th>\n",
       "      <th>2</th>\n",
       "      <th>3</th>\n",
       "      <th>4</th>\n",
       "      <th>5</th>\n",
       "      <th>6</th>\n",
       "      <th>7</th>\n",
       "      <th>8</th>\n",
       "      <th>9</th>\n",
       "      <th>10</th>\n",
       "      <th>11</th>\n",
       "    </tr>\n",
       "  </thead>\n",
       "  <tbody>\n",
       "    <tr>\n",
       "      <th>identifier</th>\n",
       "      <td>0</td>\n",
       "      <td>1</td>\n",
       "      <td>2</td>\n",
       "      <td>3</td>\n",
       "      <td>4</td>\n",
       "      <td>5</td>\n",
       "      <td>6</td>\n",
       "      <td>7</td>\n",
       "      <td>8</td>\n",
       "      <td>9</td>\n",
       "      <td>10</td>\n",
       "      <td>11</td>\n",
       "    </tr>\n",
       "    <tr>\n",
       "      <th>identifier_name</th>\n",
       "      <td>'C': 0.001, 'penalty': 'l1'</td>\n",
       "      <td>'C': 0.001, 'penalty': 'l2'</td>\n",
       "      <td>'C': 0.01, 'penalty': 'l1'</td>\n",
       "      <td>'C': 0.01, 'penalty': 'l2'</td>\n",
       "      <td>'C': 0.1, 'penalty': 'l1'</td>\n",
       "      <td>'C': 0.1, 'penalty': 'l2'</td>\n",
       "      <td>'C': 1, 'penalty': 'l1'</td>\n",
       "      <td>'C': 1, 'penalty': 'l2'</td>\n",
       "      <td>'C': 10, 'penalty': 'l1'</td>\n",
       "      <td>'C': 10, 'penalty': 'l2'</td>\n",
       "      <td>'C': 100, 'penalty': 'l1'</td>\n",
       "      <td>'C': 100, 'penalty': 'l2'</td>\n",
       "    </tr>\n",
       "  </tbody>\n",
       "</table>\n",
       "</div>"
      ],
      "text/plain": [
       "                                          0                            1   \\\n",
       "identifier                                 0                            1   \n",
       "identifier_name  'C': 0.001, 'penalty': 'l1'  'C': 0.001, 'penalty': 'l2'   \n",
       "\n",
       "                                         2                           3   \\\n",
       "identifier                                2                           3   \n",
       "identifier_name  'C': 0.01, 'penalty': 'l1'  'C': 0.01, 'penalty': 'l2'   \n",
       "\n",
       "                                        4                          5   \\\n",
       "identifier                               4                          5   \n",
       "identifier_name  'C': 0.1, 'penalty': 'l1'  'C': 0.1, 'penalty': 'l2'   \n",
       "\n",
       "                                      6                        7   \\\n",
       "identifier                             6                        7   \n",
       "identifier_name  'C': 1, 'penalty': 'l1'  'C': 1, 'penalty': 'l2'   \n",
       "\n",
       "                                       8                         9   \\\n",
       "identifier                              8                         9   \n",
       "identifier_name  'C': 10, 'penalty': 'l1'  'C': 10, 'penalty': 'l2'   \n",
       "\n",
       "                                        10                         11  \n",
       "identifier                              10                         11  \n",
       "identifier_name  'C': 100, 'penalty': 'l1'  'C': 100, 'penalty': 'l2'  "
      ]
     },
     "execution_count": 69,
     "metadata": {},
     "output_type": "execute_result"
    }
   ],
   "source": [
    "grid_train_test_plot(lrclassresults,'identifier','mean_train_score','mean_test_score','Grid Search Train Test Plot','Parameters','Scores',14,6,'show')\n",
    "lrclassresults[['identifier','identifier_name']].transpose()"
   ]
  },
  {
   "cell_type": "code",
   "execution_count": 70,
   "metadata": {},
   "outputs": [
    {
     "name": "stdout",
     "output_type": "stream",
     "text": [
      "Logistic Regression - Train Accuracy: 0.86\n",
      "Logistic Regression - Test Accuracy: 0.85 \n"
     ]
    }
   ],
   "source": [
    "lr_accuracy_train = lr_grid_search.best_estimator_.score(X_train_pca, y_train)\n",
    "lr_accuracy_test = lr_grid_search.best_estimator_.score(X_test_pca, y_test)\n",
    "\n",
    "print('Logistic Regression - Train Accuracy: %.2f'%lr_accuracy_train)\n",
    "print('Logistic Regression - Test Accuracy: %.2f '%lr_accuracy_test)"
   ]
  },
  {
   "cell_type": "code",
   "execution_count": 71,
   "metadata": {},
   "outputs": [
    {
     "name": "stdout",
     "output_type": "stream",
     "text": [
      "Logistic Regression - Train roc_auc_score: 0.64\n",
      "Logistic Regression - Test roc_auc_score: 0.63 \n"
     ]
    }
   ],
   "source": [
    "lr_auc_train = roc_auc_score(y_train,lr_grid_search.predict(X_train_pca))\n",
    "lr_auc_test = roc_auc_score(y_test,lr_grid_search.predict(X_test_pca))\n",
    "\n",
    "print('Logistic Regression - Train roc_auc_score: %.2f'%lr_auc_train)\n",
    "print('Logistic Regression - Test roc_auc_score: %.2f '%lr_auc_test)"
   ]
  },
  {
   "cell_type": "code",
   "execution_count": 72,
   "metadata": {},
   "outputs": [],
   "source": [
    "report_table = report_table + [['Logistic Regression', str(lr_grid_search.best_params_).replace('{','').replace('}','').replace('\\'',''), lr_accuracy_train, lr_accuracy_test, lr_auc_train, lr_auc_test]]"
   ]
  },
  {
   "cell_type": "markdown",
   "metadata": {},
   "source": [
    "## Linear Support Vector Machine Classifier"
   ]
  },
  {
   "cell_type": "markdown",
   "metadata": {},
   "source": [
    "The objective of a Linear SVC is fit a \"best fit\" hyperplane that divides, or categorizes, the data."
   ]
  },
  {
   "cell_type": "code",
   "execution_count": 73,
   "metadata": {},
   "outputs": [],
   "source": [
    "linsvc_param_grid = [{'C':[0.001, 0.01, 0.1, 1, 10, 100],'penalty':['l2'],'loss':['hinge','squared_hinge']},\n",
    "                     {'C':[0.001, 0.01, 0.1, 1, 10, 100],'penalty':['l1'],'dual':[False],'loss':['squared_hinge']}]"
   ]
  },
  {
   "cell_type": "code",
   "execution_count": 74,
   "metadata": {},
   "outputs": [
    {
     "name": "stdout",
     "output_type": "stream",
     "text": [
      "Fitting 5 folds for each of 18 candidates, totalling 90 fits\n"
     ]
    },
    {
     "name": "stderr",
     "output_type": "stream",
     "text": [
      "[Parallel(n_jobs=-1)]: Done   2 tasks      | elapsed:    4.7s\n",
      "[Parallel(n_jobs=-1)]: Done   9 tasks      | elapsed:   17.5s\n",
      "[Parallel(n_jobs=-1)]: Done  16 tasks      | elapsed:   17.6s\n",
      "[Parallel(n_jobs=-1)]: Done  25 tasks      | elapsed:   18.1s\n",
      "[Parallel(n_jobs=-1)]: Done  34 tasks      | elapsed:   18.9s\n",
      "[Parallel(n_jobs=-1)]: Done  45 tasks      | elapsed:   20.1s\n",
      "[Parallel(n_jobs=-1)]: Done  56 tasks      | elapsed:   22.0s\n",
      "[Parallel(n_jobs=-1)]: Done  69 tasks      | elapsed:   23.2s\n",
      "[Parallel(n_jobs=-1)]: Done  85 out of  90 | elapsed:   25.7s remaining:    1.4s\n",
      "[Parallel(n_jobs=-1)]: Done  90 out of  90 | elapsed:   26.1s finished\n"
     ]
    },
    {
     "name": "stdout",
     "output_type": "stream",
     "text": [
      "Best Parameters : {'C': 10, 'loss': 'squared_hinge', 'penalty': 'l2'}\n",
      "Best cross_val score : 0.863662696783187\n"
     ]
    }
   ],
   "source": [
    "from sklearn.svm import LinearSVC\n",
    "linsvc_grid_search = GridSearchCV(LinearSVC(random_state = 10),linsvc_param_grid, cv=5, scoring='roc_auc', n_jobs = -1,verbose=10)\n",
    "linsvc_grid_search.fit(X_train_pca, y_train)\n",
    "print(\"Best Parameters : {}\".format(linsvc_grid_search.best_params_))\n",
    "print(\"Best cross_val score : {}\".format(linsvc_grid_search.best_score_))"
   ]
  },
  {
   "cell_type": "code",
   "execution_count": 75,
   "metadata": {},
   "outputs": [
    {
     "data": {
      "image/png": "[encoded data removed]",
      "text/plain": [
       "<Figure size 1008x432 with 1 Axes>"
      ]
     },
     "metadata": {},
     "output_type": "display_data"
    },
    {
     "data": {
      "text/html": [
       "<div>\n",
       "<style scoped>\n",
       "    .dataframe tbody tr th:only-of-type {\n",
       "        vertical-align: middle;\n",
       "    }\n",
       "\n",
       "    .dataframe tbody tr th {\n",
       "        vertical-align: top;\n",
       "    }\n",
       "\n",
       "    .dataframe thead th {\n",
       "        text-align: right;\n",
       "    }\n",
       "</style>\n",
       "<table border=\"1\" class=\"dataframe\">\n",
       "  <thead>\n",
       "    <tr style=\"text-align: right;\">\n",
       "      <th></th>\n",
       "      <th>0</th>\n",
       "      <th>1</th>\n",
       "      <th>2</th>\n",
       "      <th>3</th>\n",
       "      <th>4</th>\n",
       "      <th>5</th>\n",
       "      <th>6</th>\n",
       "      <th>7</th>\n",
       "      <th>8</th>\n",
       "      <th>9</th>\n",
       "      <th>10</th>\n",
       "      <th>11</th>\n",
       "      <th>12</th>\n",
       "      <th>13</th>\n",
       "      <th>14</th>\n",
       "      <th>15</th>\n",
       "      <th>16</th>\n",
       "      <th>17</th>\n",
       "    </tr>\n",
       "  </thead>\n",
       "  <tbody>\n",
       "    <tr>\n",
       "      <th>identifier</th>\n",
       "      <td>0</td>\n",
       "      <td>1</td>\n",
       "      <td>2</td>\n",
       "      <td>3</td>\n",
       "      <td>4</td>\n",
       "      <td>5</td>\n",
       "      <td>6</td>\n",
       "      <td>7</td>\n",
       "      <td>8</td>\n",
       "      <td>9</td>\n",
       "      <td>10</td>\n",
       "      <td>11</td>\n",
       "      <td>12</td>\n",
       "      <td>13</td>\n",
       "      <td>14</td>\n",
       "      <td>15</td>\n",
       "      <td>16</td>\n",
       "      <td>17</td>\n",
       "    </tr>\n",
       "    <tr>\n",
       "      <th>identifier_name</th>\n",
       "      <td>'C': 0.001, 'loss': 'hinge', 'penalty': 'l2'</td>\n",
       "      <td>'C': 0.001, 'loss': 'squared_hinge', 'penalty'...</td>\n",
       "      <td>'C': 0.01, 'loss': 'hinge', 'penalty': 'l2'</td>\n",
       "      <td>'C': 0.01, 'loss': 'squared_hinge', 'penalty':...</td>\n",
       "      <td>'C': 0.1, 'loss': 'hinge', 'penalty': 'l2'</td>\n",
       "      <td>'C': 0.1, 'loss': 'squared_hinge', 'penalty': ...</td>\n",
       "      <td>'C': 1, 'loss': 'hinge', 'penalty': 'l2'</td>\n",
       "      <td>'C': 1, 'loss': 'squared_hinge', 'penalty': 'l2'</td>\n",
       "      <td>'C': 10, 'loss': 'hinge', 'penalty': 'l2'</td>\n",
       "      <td>'C': 10, 'loss': 'squared_hinge', 'penalty': 'l2'</td>\n",
       "      <td>'C': 100, 'loss': 'hinge', 'penalty': 'l2'</td>\n",
       "      <td>'C': 100, 'loss': 'squared_hinge', 'penalty': ...</td>\n",
       "      <td>'C': 0.001, 'dual': False, 'loss': 'squared_hi...</td>\n",
       "      <td>'C': 0.01, 'dual': False, 'loss': 'squared_hin...</td>\n",
       "      <td>'C': 0.1, 'dual': False, 'loss': 'squared_hing...</td>\n",
       "      <td>'C': 1, 'dual': False, 'loss': 'squared_hinge'...</td>\n",
       "      <td>'C': 10, 'dual': False, 'loss': 'squared_hinge...</td>\n",
       "      <td>'C': 100, 'dual': False, 'loss': 'squared_hing...</td>\n",
       "    </tr>\n",
       "  </tbody>\n",
       "</table>\n",
       "</div>"
      ],
      "text/plain": [
       "                                                           0   \\\n",
       "identifier                                                  0   \n",
       "identifier_name  'C': 0.001, 'loss': 'hinge', 'penalty': 'l2'   \n",
       "\n",
       "                                                                1   \\\n",
       "identifier                                                       1   \n",
       "identifier_name  'C': 0.001, 'loss': 'squared_hinge', 'penalty'...   \n",
       "\n",
       "                                                          2   \\\n",
       "identifier                                                 2   \n",
       "identifier_name  'C': 0.01, 'loss': 'hinge', 'penalty': 'l2'   \n",
       "\n",
       "                                                                3   \\\n",
       "identifier                                                       3   \n",
       "identifier_name  'C': 0.01, 'loss': 'squared_hinge', 'penalty':...   \n",
       "\n",
       "                                                         4   \\\n",
       "identifier                                                4   \n",
       "identifier_name  'C': 0.1, 'loss': 'hinge', 'penalty': 'l2'   \n",
       "\n",
       "                                                                5   \\\n",
       "identifier                                                       5   \n",
       "identifier_name  'C': 0.1, 'loss': 'squared_hinge', 'penalty': ...   \n",
       "\n",
       "                                                       6   \\\n",
       "identifier                                              6   \n",
       "identifier_name  'C': 1, 'loss': 'hinge', 'penalty': 'l2'   \n",
       "\n",
       "                                                               7   \\\n",
       "identifier                                                      7   \n",
       "identifier_name  'C': 1, 'loss': 'squared_hinge', 'penalty': 'l2'   \n",
       "\n",
       "                                                        8   \\\n",
       "identifier                                               8   \n",
       "identifier_name  'C': 10, 'loss': 'hinge', 'penalty': 'l2'   \n",
       "\n",
       "                                                                9   \\\n",
       "identifier                                                       9   \n",
       "identifier_name  'C': 10, 'loss': 'squared_hinge', 'penalty': 'l2'   \n",
       "\n",
       "                                                         10  \\\n",
       "identifier                                               10   \n",
       "identifier_name  'C': 100, 'loss': 'hinge', 'penalty': 'l2'   \n",
       "\n",
       "                                                                11  \\\n",
       "identifier                                                      11   \n",
       "identifier_name  'C': 100, 'loss': 'squared_hinge', 'penalty': ...   \n",
       "\n",
       "                                                                12  \\\n",
       "identifier                                                      12   \n",
       "identifier_name  'C': 0.001, 'dual': False, 'loss': 'squared_hi...   \n",
       "\n",
       "                                                                13  \\\n",
       "identifier                                                      13   \n",
       "identifier_name  'C': 0.01, 'dual': False, 'loss': 'squared_hin...   \n",
       "\n",
       "                                                                14  \\\n",
       "identifier                                                      14   \n",
       "identifier_name  'C': 0.1, 'dual': False, 'loss': 'squared_hing...   \n",
       "\n",
       "                                                                15  \\\n",
       "identifier                                                      15   \n",
       "identifier_name  'C': 1, 'dual': False, 'loss': 'squared_hinge'...   \n",
       "\n",
       "                                                                16  \\\n",
       "identifier                                                      16   \n",
       "identifier_name  'C': 10, 'dual': False, 'loss': 'squared_hinge...   \n",
       "\n",
       "                                                                17  \n",
       "identifier                                                      17  \n",
       "identifier_name  'C': 100, 'dual': False, 'loss': 'squared_hing...  "
      ]
     },
     "execution_count": 75,
     "metadata": {},
     "output_type": "execute_result"
    }
   ],
   "source": [
    "linsvcclassresults = pd.DataFrame(linsvc_grid_search.cv_results_)\n",
    "linsvcclassresults['identifier_name'] = linsvcclassresults.params.apply(lambda x: str(x).replace('{','').replace('}',''))\n",
    "linsvcclassresults['identifier'] = (linsvcclassresults.index)\n",
    "grid_train_test_plot(linsvcclassresults,'identifier','mean_train_score','mean_test_score','Grid Search Train Test Plot','Parameters','Scores',14,6,'hide')\n",
    "linsvcclassresults[['identifier','identifier_name']].transpose()"
   ]
  },
  {
   "cell_type": "code",
   "execution_count": 76,
   "metadata": {},
   "outputs": [
    {
     "name": "stdout",
     "output_type": "stream",
     "text": [
      "Linear Support Vector Machine Classifier - Train Accuracy: 0.83\n",
      "Linear Support Vector Machine Classifier - Test Accuracy: 0.82 \n"
     ]
    }
   ],
   "source": [
    "lsvc_accuracy_train = linsvc_grid_search.best_estimator_.score(X_train_pca, y_train)\n",
    "lsvc_accuracy_test = linsvc_grid_search.best_estimator_.score(X_test_pca, y_test)\n",
    "\n",
    "print('Linear Support Vector Machine Classifier - Train Accuracy: %.2f'%lsvc_accuracy_train)\n",
    "print('Linear Support Vector Machine Classifier - Test Accuracy: %.2f '%lsvc_accuracy_test)"
   ]
  },
  {
   "cell_type": "code",
   "execution_count": 77,
   "metadata": {},
   "outputs": [
    {
     "name": "stdout",
     "output_type": "stream",
     "text": [
      "Linear Support Vector Machine Classifier - Train roc_auc_score: 0.57\n",
      "Linear Support Vector Machine Classifier - Test roc_auc_score: 0.55 \n"
     ]
    }
   ],
   "source": [
    "lsvc_auc_train = roc_auc_score(y_train,linsvc_grid_search.predict(X_train_pca))\n",
    "lsvc_auc_test = roc_auc_score(y_test,linsvc_grid_search.predict(X_test_pca))\n",
    "\n",
    "print('Linear Support Vector Machine Classifier - Train roc_auc_score: %.2f'%lsvc_auc_train)\n",
    "print('Linear Support Vector Machine Classifier - Test roc_auc_score: %.2f '%lsvc_auc_test)"
   ]
  },
  {
   "cell_type": "code",
   "execution_count": 78,
   "metadata": {},
   "outputs": [],
   "source": [
    "report_table = report_table + [['Linear Support Vector Machine Classifier', str(linsvc_grid_search.best_params_).replace('{','').replace('}','').replace('\\'',''), lsvc_accuracy_train, lsvc_accuracy_test, lsvc_auc_train, lsvc_auc_test]]"
   ]
  },
  {
   "cell_type": "markdown",
   "metadata": {},
   "source": [
    "## Linear Kernelized Support Vector Machine Classifier"
   ]
  },
  {
   "cell_type": "code",
   "execution_count": 79,
   "metadata": {},
   "outputs": [],
   "source": [
    "svm_param_grid = {'C':[0.001, 0.01, 0.1, 1, 10, 100]}"
   ]
  },
  {
   "cell_type": "code",
   "execution_count": 80,
   "metadata": {},
   "outputs": [
    {
     "name": "stdout",
     "output_type": "stream",
     "text": [
      "Fitting 5 folds for each of 6 candidates, totalling 30 fits\n"
     ]
    },
    {
     "name": "stderr",
     "output_type": "stream",
     "text": [
      "[Parallel(n_jobs=-1)]: Done   2 tasks      | elapsed:    5.5s\n",
      "[Parallel(n_jobs=-1)]: Done   9 tasks      | elapsed:   19.3s\n",
      "[Parallel(n_jobs=-1)]: Done  19 out of  30 | elapsed:   23.1s remaining:   13.3s\n",
      "[Parallel(n_jobs=-1)]: Done  23 out of  30 | elapsed:   23.3s remaining:    7.0s\n",
      "[Parallel(n_jobs=-1)]: Done  27 out of  30 | elapsed:   26.0s remaining:    2.8s\n",
      "[Parallel(n_jobs=-1)]: Done  30 out of  30 | elapsed:   26.1s finished\n"
     ]
    },
    {
     "name": "stdout",
     "output_type": "stream",
     "text": [
      "Best Parameters : {'C': 100}\n",
      "Best cross_val score : 0.8590980427477717\n"
     ]
    }
   ],
   "source": [
    "from sklearn.svm import SVC\n",
    "\n",
    "svm_grid_search = GridSearchCV(SVC(kernel = 'linear', random_state = 10),svm_param_grid, cv=5, scoring='roc_auc', n_jobs = -1,verbose=10)\n",
    "svm_grid_search.fit(X_train_pca, y_train)\n",
    "print(\"Best Parameters : {}\".format(svm_grid_search.best_params_))\n",
    "print(\"Best cross_val score : {}\".format(svm_grid_search.best_score_))"
   ]
  },
  {
   "cell_type": "code",
   "execution_count": 81,
   "metadata": {},
   "outputs": [
    {
     "data": {
      "image/png": "[encoded data removed]",
      "text/plain": [
       "<Figure size 1008x432 with 1 Axes>"
      ]
     },
     "metadata": {},
     "output_type": "display_data"
    }
   ],
   "source": [
    "linsvmclassresults = pd.DataFrame(svm_grid_search.cv_results_)\n",
    "grid_train_test_plot(linsvmclassresults,'param_C','mean_train_score','mean_test_score','Grid Search Train Test Plot','Parameter - C','Scores',14,6,'show')"
   ]
  },
  {
   "cell_type": "code",
   "execution_count": 82,
   "metadata": {},
   "outputs": [
    {
     "name": "stdout",
     "output_type": "stream",
     "text": [
      "Linear Kernelized Support Vector Machine Classifier - Train Accuracy: 0.88\n",
      "Linear Kernelized Support Vector Machine Classifier - Test Accuracy: 0.87 \n"
     ]
    }
   ],
   "source": [
    "svm_accuracy_train = svm_grid_search.best_estimator_.score(X_train_pca, y_train)\n",
    "svm_accuracy_test = svm_grid_search.best_estimator_.score(X_test_pca, y_test)\n",
    "\n",
    "print('Linear Kernelized Support Vector Machine Classifier - Train Accuracy: %.2f'%svm_accuracy_train)\n",
    "print('Linear Kernelized Support Vector Machine Classifier - Test Accuracy: %.2f '%svm_accuracy_test)"
   ]
  },
  {
   "cell_type": "code",
   "execution_count": 83,
   "metadata": {},
   "outputs": [
    {
     "name": "stdout",
     "output_type": "stream",
     "text": [
      "Linear Kernelized Support Vector Machine Classifier - Train roc_auc_score: 0.70\n",
      "Linear Kernelized Support Vector Machine Classifier - Test roc_auc_score: 0.67 \n"
     ]
    }
   ],
   "source": [
    "svm_auc_train = roc_auc_score(y_train,svm_grid_search.predict(X_train_pca))\n",
    "svm_auc_test = roc_auc_score(y_test,svm_grid_search.predict(X_test_pca))\n",
    "\n",
    "print('Linear Kernelized Support Vector Machine Classifier - Train roc_auc_score: %.2f'%svm_auc_train)\n",
    "print('Linear Kernelized Support Vector Machine Classifier - Test roc_auc_score: %.2f '%svm_auc_test)"
   ]
  },
  {
   "cell_type": "code",
   "execution_count": 84,
   "metadata": {},
   "outputs": [],
   "source": [
    "report_table = report_table + [['Linear Kernelized Support Vector Machine Classifier', str(svm_grid_search.best_params_).replace('{','').replace('}','').replace('\\'',''), svm_accuracy_train, svm_accuracy_test, svm_auc_train, svm_auc_test]]"
   ]
  },
  {
   "cell_type": "markdown",
   "metadata": {},
   "source": [
    "## RBF Kernelized Support Vector Machine Classifier"
   ]
  },
  {
   "cell_type": "code",
   "execution_count": 85,
   "metadata": {},
   "outputs": [],
   "source": [
    "rbfsvm_param_grid = {'C':[0.001, 0.01, 0.1, 1, 10, 100],'gamma':[0.001, 0.01, 0.1, 1, 10, 100]}"
   ]
  },
  {
   "cell_type": "code",
   "execution_count": 86,
   "metadata": {},
   "outputs": [
    {
     "name": "stdout",
     "output_type": "stream",
     "text": [
      "Fitting 5 folds for each of 36 candidates, totalling 180 fits\n"
     ]
    },
    {
     "name": "stderr",
     "output_type": "stream",
     "text": [
      "[Parallel(n_jobs=-1)]: Done   2 tasks      | elapsed:    6.8s\n",
      "[Parallel(n_jobs=-1)]: Done   9 tasks      | elapsed:   21.1s\n",
      "[Parallel(n_jobs=-1)]: Done  16 tasks      | elapsed:   24.8s\n",
      "[Parallel(n_jobs=-1)]: Done  25 tasks      | elapsed:   27.9s\n",
      "[Parallel(n_jobs=-1)]: Done  34 tasks      | elapsed:   31.6s\n",
      "[Parallel(n_jobs=-1)]: Done  45 tasks      | elapsed:   37.1s\n",
      "[Parallel(n_jobs=-1)]: Done  56 tasks      | elapsed:   42.1s\n",
      "[Parallel(n_jobs=-1)]: Done  69 tasks      | elapsed:   48.3s\n",
      "[Parallel(n_jobs=-1)]: Done  82 tasks      | elapsed:   53.6s\n",
      "[Parallel(n_jobs=-1)]: Done  97 tasks      | elapsed:  1.0min\n",
      "[Parallel(n_jobs=-1)]: Done 112 tasks      | elapsed:  1.1min\n",
      "[Parallel(n_jobs=-1)]: Done 129 tasks      | elapsed:  1.3min\n",
      "[Parallel(n_jobs=-1)]: Done 146 tasks      | elapsed:  1.4min\n",
      "[Parallel(n_jobs=-1)]: Done 165 tasks      | elapsed:  1.5min\n",
      "[Parallel(n_jobs=-1)]: Done 180 out of 180 | elapsed:  1.6min finished\n"
     ]
    },
    {
     "name": "stdout",
     "output_type": "stream",
     "text": [
      "Best Parameters : {'C': 100, 'gamma': 100}\n",
      "Best cross_val score : 0.9242406834474964\n"
     ]
    }
   ],
   "source": [
    "rbfsvm_grid_search = GridSearchCV(SVC(kernel = 'rbf', random_state = 10),rbfsvm_param_grid, cv=5, scoring='roc_auc', n_jobs = -1,verbose=10)\n",
    "rbfsvm_grid_search.fit(X_train_pca, y_train)\n",
    "print(\"Best Parameters : {}\".format(rbfsvm_grid_search.best_params_))\n",
    "print(\"Best cross_val score : {}\".format(rbfsvm_grid_search.best_score_))"
   ]
  },
  {
   "cell_type": "code",
   "execution_count": 87,
   "metadata": {},
   "outputs": [
    {
     "data": {
      "image/png": "[encoded data removed]",
      "text/plain": [
       "<Figure size 1008x432 with 1 Axes>"
      ]
     },
     "metadata": {},
     "output_type": "display_data"
    },
    {
     "data": {
      "text/html": [
       "<div>\n",
       "<style scoped>\n",
       "    .dataframe tbody tr th:only-of-type {\n",
       "        vertical-align: middle;\n",
       "    }\n",
       "\n",
       "    .dataframe tbody tr th {\n",
       "        vertical-align: top;\n",
       "    }\n",
       "\n",
       "    .dataframe thead th {\n",
       "        text-align: right;\n",
       "    }\n",
       "</style>\n",
       "<table border=\"1\" class=\"dataframe\">\n",
       "  <thead>\n",
       "    <tr style=\"text-align: right;\">\n",
       "      <th></th>\n",
       "      <th>0</th>\n",
       "      <th>1</th>\n",
       "      <th>2</th>\n",
       "      <th>3</th>\n",
       "      <th>4</th>\n",
       "      <th>5</th>\n",
       "      <th>6</th>\n",
       "      <th>7</th>\n",
       "      <th>8</th>\n",
       "      <th>9</th>\n",
       "      <th>...</th>\n",
       "      <th>26</th>\n",
       "      <th>27</th>\n",
       "      <th>28</th>\n",
       "      <th>29</th>\n",
       "      <th>30</th>\n",
       "      <th>31</th>\n",
       "      <th>32</th>\n",
       "      <th>33</th>\n",
       "      <th>34</th>\n",
       "      <th>35</th>\n",
       "    </tr>\n",
       "  </thead>\n",
       "  <tbody>\n",
       "    <tr>\n",
       "      <th>identifier</th>\n",
       "      <td>0</td>\n",
       "      <td>1</td>\n",
       "      <td>2</td>\n",
       "      <td>3</td>\n",
       "      <td>4</td>\n",
       "      <td>5</td>\n",
       "      <td>6</td>\n",
       "      <td>7</td>\n",
       "      <td>8</td>\n",
       "      <td>9</td>\n",
       "      <td>...</td>\n",
       "      <td>26</td>\n",
       "      <td>27</td>\n",
       "      <td>28</td>\n",
       "      <td>29</td>\n",
       "      <td>30</td>\n",
       "      <td>31</td>\n",
       "      <td>32</td>\n",
       "      <td>33</td>\n",
       "      <td>34</td>\n",
       "      <td>35</td>\n",
       "    </tr>\n",
       "    <tr>\n",
       "      <th>identifier_name</th>\n",
       "      <td>'C': 0.001, 'gamma': 0.001</td>\n",
       "      <td>'C': 0.001, 'gamma': 0.01</td>\n",
       "      <td>'C': 0.001, 'gamma': 0.1</td>\n",
       "      <td>'C': 0.001, 'gamma': 1</td>\n",
       "      <td>'C': 0.001, 'gamma': 10</td>\n",
       "      <td>'C': 0.001, 'gamma': 100</td>\n",
       "      <td>'C': 0.01, 'gamma': 0.001</td>\n",
       "      <td>'C': 0.01, 'gamma': 0.01</td>\n",
       "      <td>'C': 0.01, 'gamma': 0.1</td>\n",
       "      <td>'C': 0.01, 'gamma': 1</td>\n",
       "      <td>...</td>\n",
       "      <td>'C': 10, 'gamma': 0.1</td>\n",
       "      <td>'C': 10, 'gamma': 1</td>\n",
       "      <td>'C': 10, 'gamma': 10</td>\n",
       "      <td>'C': 10, 'gamma': 100</td>\n",
       "      <td>'C': 100, 'gamma': 0.001</td>\n",
       "      <td>'C': 100, 'gamma': 0.01</td>\n",
       "      <td>'C': 100, 'gamma': 0.1</td>\n",
       "      <td>'C': 100, 'gamma': 1</td>\n",
       "      <td>'C': 100, 'gamma': 10</td>\n",
       "      <td>'C': 100, 'gamma': 100</td>\n",
       "    </tr>\n",
       "  </tbody>\n",
       "</table>\n",
       "<p>2 rows × 36 columns</p>\n",
       "</div>"
      ],
      "text/plain": [
       "                                         0                          1   \\\n",
       "identifier                                0                          1   \n",
       "identifier_name  'C': 0.001, 'gamma': 0.001  'C': 0.001, 'gamma': 0.01   \n",
       "\n",
       "                                       2                       3   \\\n",
       "identifier                              2                       3   \n",
       "identifier_name  'C': 0.001, 'gamma': 0.1  'C': 0.001, 'gamma': 1   \n",
       "\n",
       "                                      4                         5   \\\n",
       "identifier                             4                         5   \n",
       "identifier_name  'C': 0.001, 'gamma': 10  'C': 0.001, 'gamma': 100   \n",
       "\n",
       "                                        6                         7   \\\n",
       "identifier                               6                         7   \n",
       "identifier_name  'C': 0.01, 'gamma': 0.001  'C': 0.01, 'gamma': 0.01   \n",
       "\n",
       "                                      8                      9   \\\n",
       "identifier                             8                      9   \n",
       "identifier_name  'C': 0.01, 'gamma': 0.1  'C': 0.01, 'gamma': 1   \n",
       "\n",
       "                          ...                               26  \\\n",
       "identifier                ...                               26   \n",
       "identifier_name           ...            'C': 10, 'gamma': 0.1   \n",
       "\n",
       "                                  27                    28  \\\n",
       "identifier                        27                    28   \n",
       "identifier_name  'C': 10, 'gamma': 1  'C': 10, 'gamma': 10   \n",
       "\n",
       "                                    29                        30  \\\n",
       "identifier                          29                        30   \n",
       "identifier_name  'C': 10, 'gamma': 100  'C': 100, 'gamma': 0.001   \n",
       "\n",
       "                                      31                      32  \\\n",
       "identifier                            31                      32   \n",
       "identifier_name  'C': 100, 'gamma': 0.01  'C': 100, 'gamma': 0.1   \n",
       "\n",
       "                                   33                     34  \\\n",
       "identifier                         33                     34   \n",
       "identifier_name  'C': 100, 'gamma': 1  'C': 100, 'gamma': 10   \n",
       "\n",
       "                                     35  \n",
       "identifier                           35  \n",
       "identifier_name  'C': 100, 'gamma': 100  \n",
       "\n",
       "[2 rows x 36 columns]"
      ]
     },
     "execution_count": 87,
     "metadata": {},
     "output_type": "execute_result"
    }
   ],
   "source": [
    "rbfsvmclassresults = pd.DataFrame(rbfsvm_grid_search.cv_results_)\n",
    "rbfsvmclassresults['identifier_name'] = rbfsvmclassresults.params.apply(lambda x: str(x).replace('{','').replace('}',''))\n",
    "rbfsvmclassresults['identifier'] = (rbfsvmclassresults.index)\n",
    "grid_train_test_plot(rbfsvmclassresults,'identifier','mean_train_score','mean_test_score','Grid Search Train Test Plot','Parameters','Scores',14,6,'hide')\n",
    "rbfsvmclassresults[['identifier','identifier_name']].transpose()"
   ]
  },
  {
   "cell_type": "code",
   "execution_count": 88,
   "metadata": {},
   "outputs": [
    {
     "name": "stdout",
     "output_type": "stream",
     "text": [
      "RBF Kernelized Support Vector Machine Classifier - Train Accuracy: 0.92\n",
      "RBF Kernelized Support Vector Machine Classifier - Test Accuracy: 0.91 \n"
     ]
    }
   ],
   "source": [
    "rbfsvm_accuracy_train = rbfsvm_grid_search.best_estimator_.score(X_train_pca, y_train)\n",
    "rbfsvm_accuracy_test = rbfsvm_grid_search.best_estimator_.score(X_test_pca, y_test)\n",
    "\n",
    "print('RBF Kernelized Support Vector Machine Classifier - Train Accuracy: %.2f'%rbfsvm_accuracy_train)\n",
    "print('RBF Kernelized Support Vector Machine Classifier - Test Accuracy: %.2f '%rbfsvm_accuracy_test)"
   ]
  },
  {
   "cell_type": "code",
   "execution_count": 89,
   "metadata": {},
   "outputs": [
    {
     "name": "stdout",
     "output_type": "stream",
     "text": [
      "RBF Kernelized Support Vector Machine Classifier - Train roc_auc_score: 0.82\n",
      "RBF Kernelized Support Vector Machine Classifier - Test roc_auc_score: 0.81 \n"
     ]
    }
   ],
   "source": [
    "rbfsvm_auc_train = roc_auc_score(y_train,rbfsvm_grid_search.predict(X_train_pca))\n",
    "rbfsvm_auc_test = roc_auc_score(y_test,rbfsvm_grid_search.predict(X_test_pca))\n",
    "\n",
    "print('RBF Kernelized Support Vector Machine Classifier - Train roc_auc_score: %.2f'%rbfsvm_auc_train)\n",
    "print('RBF Kernelized Support Vector Machine Classifier - Test roc_auc_score: %.2f '%rbfsvm_auc_test)"
   ]
  },
  {
   "cell_type": "code",
   "execution_count": 90,
   "metadata": {},
   "outputs": [],
   "source": [
    "report_table = report_table + [['RBF Kernelized Support Vector Machine Classifier', str(rbfsvm_grid_search.best_params_).replace('{','').replace('}','').replace('\\'',''), rbfsvm_accuracy_train, rbfsvm_accuracy_test, rbfsvm_auc_train, rbfsvm_auc_test]]"
   ]
  },
  {
   "cell_type": "markdown",
   "metadata": {},
   "source": [
    "## Poly Kernelized Support Vector Machine Classifier"
   ]
  },
  {
   "cell_type": "code",
   "execution_count": 91,
   "metadata": {},
   "outputs": [],
   "source": [
    "psvm_param_grid = {'C':[0.001, 0.01, 0.1, 1, 10, 100], 'gamma':[0.001, 0.01], 'degree' : [2, 3]}"
   ]
  },
  {
   "cell_type": "code",
   "execution_count": 92,
   "metadata": {},
   "outputs": [
    {
     "name": "stdout",
     "output_type": "stream",
     "text": [
      "Fitting 5 folds for each of 24 candidates, totalling 120 fits\n"
     ]
    },
    {
     "name": "stderr",
     "output_type": "stream",
     "text": [
      "[Parallel(n_jobs=-1)]: Done   2 tasks      | elapsed:    5.9s\n",
      "[Parallel(n_jobs=-1)]: Done   9 tasks      | elapsed:   19.7s\n",
      "[Parallel(n_jobs=-1)]: Done  16 tasks      | elapsed:   21.8s\n",
      "[Parallel(n_jobs=-1)]: Done  25 tasks      | elapsed:   23.9s\n",
      "[Parallel(n_jobs=-1)]: Done  34 tasks      | elapsed:   26.4s\n",
      "[Parallel(n_jobs=-1)]: Done  45 tasks      | elapsed:   29.8s\n",
      "[Parallel(n_jobs=-1)]: Done  56 tasks      | elapsed:   33.5s\n",
      "[Parallel(n_jobs=-1)]: Done  69 tasks      | elapsed:   37.5s\n",
      "[Parallel(n_jobs=-1)]: Done  82 tasks      | elapsed:   41.9s\n",
      "[Parallel(n_jobs=-1)]: Done  97 tasks      | elapsed:   46.9s\n",
      "[Parallel(n_jobs=-1)]: Done 118 out of 120 | elapsed:   52.7s remaining:    0.8s\n",
      "[Parallel(n_jobs=-1)]: Done 120 out of 120 | elapsed:   53.2s finished\n"
     ]
    },
    {
     "name": "stdout",
     "output_type": "stream",
     "text": [
      "Best Parameters : {'C': 1, 'degree': 2, 'gamma': 0.01}\n",
      "Best cross_val score : 0.8336142441969997\n"
     ]
    }
   ],
   "source": [
    "psvm_grid_search = GridSearchCV(SVC(kernel = 'poly', random_state = 10),psvm_param_grid, cv=5, scoring='roc_auc', n_jobs = -1,verbose=10)\n",
    "psvm_grid_search.fit(X_train_pca, y_train)\n",
    "print(\"Best Parameters : {}\".format(psvm_grid_search.best_params_))\n",
    "print(\"Best cross_val score : {}\".format(psvm_grid_search.best_score_))"
   ]
  },
  {
   "cell_type": "code",
   "execution_count": 93,
   "metadata": {},
   "outputs": [
    {
     "data": {
      "image/png": "[encoded data removed]",
      "text/plain": [
       "<Figure size 1008x432 with 1 Axes>"
      ]
     },
     "metadata": {},
     "output_type": "display_data"
    },
    {
     "data": {
      "text/html": [
       "<div>\n",
       "<style scoped>\n",
       "    .dataframe tbody tr th:only-of-type {\n",
       "        vertical-align: middle;\n",
       "    }\n",
       "\n",
       "    .dataframe tbody tr th {\n",
       "        vertical-align: top;\n",
       "    }\n",
       "\n",
       "    .dataframe thead th {\n",
       "        text-align: right;\n",
       "    }\n",
       "</style>\n",
       "<table border=\"1\" class=\"dataframe\">\n",
       "  <thead>\n",
       "    <tr style=\"text-align: right;\">\n",
       "      <th></th>\n",
       "      <th>0</th>\n",
       "      <th>1</th>\n",
       "      <th>2</th>\n",
       "      <th>3</th>\n",
       "      <th>4</th>\n",
       "      <th>5</th>\n",
       "      <th>6</th>\n",
       "      <th>7</th>\n",
       "      <th>8</th>\n",
       "      <th>9</th>\n",
       "      <th>...</th>\n",
       "      <th>14</th>\n",
       "      <th>15</th>\n",
       "      <th>16</th>\n",
       "      <th>17</th>\n",
       "      <th>18</th>\n",
       "      <th>19</th>\n",
       "      <th>20</th>\n",
       "      <th>21</th>\n",
       "      <th>22</th>\n",
       "      <th>23</th>\n",
       "    </tr>\n",
       "  </thead>\n",
       "  <tbody>\n",
       "    <tr>\n",
       "      <th>identifier</th>\n",
       "      <td>0</td>\n",
       "      <td>1</td>\n",
       "      <td>2</td>\n",
       "      <td>3</td>\n",
       "      <td>4</td>\n",
       "      <td>5</td>\n",
       "      <td>6</td>\n",
       "      <td>7</td>\n",
       "      <td>8</td>\n",
       "      <td>9</td>\n",
       "      <td>...</td>\n",
       "      <td>14</td>\n",
       "      <td>15</td>\n",
       "      <td>16</td>\n",
       "      <td>17</td>\n",
       "      <td>18</td>\n",
       "      <td>19</td>\n",
       "      <td>20</td>\n",
       "      <td>21</td>\n",
       "      <td>22</td>\n",
       "      <td>23</td>\n",
       "    </tr>\n",
       "    <tr>\n",
       "      <th>identifier_name</th>\n",
       "      <td>'C': 0.001, 'degree': 2, 'gamma': 0.001</td>\n",
       "      <td>'C': 0.001, 'degree': 2, 'gamma': 0.01</td>\n",
       "      <td>'C': 0.001, 'degree': 3, 'gamma': 0.001</td>\n",
       "      <td>'C': 0.001, 'degree': 3, 'gamma': 0.01</td>\n",
       "      <td>'C': 0.01, 'degree': 2, 'gamma': 0.001</td>\n",
       "      <td>'C': 0.01, 'degree': 2, 'gamma': 0.01</td>\n",
       "      <td>'C': 0.01, 'degree': 3, 'gamma': 0.001</td>\n",
       "      <td>'C': 0.01, 'degree': 3, 'gamma': 0.01</td>\n",
       "      <td>'C': 0.1, 'degree': 2, 'gamma': 0.001</td>\n",
       "      <td>'C': 0.1, 'degree': 2, 'gamma': 0.01</td>\n",
       "      <td>...</td>\n",
       "      <td>'C': 1, 'degree': 3, 'gamma': 0.001</td>\n",
       "      <td>'C': 1, 'degree': 3, 'gamma': 0.01</td>\n",
       "      <td>'C': 10, 'degree': 2, 'gamma': 0.001</td>\n",
       "      <td>'C': 10, 'degree': 2, 'gamma': 0.01</td>\n",
       "      <td>'C': 10, 'degree': 3, 'gamma': 0.001</td>\n",
       "      <td>'C': 10, 'degree': 3, 'gamma': 0.01</td>\n",
       "      <td>'C': 100, 'degree': 2, 'gamma': 0.001</td>\n",
       "      <td>'C': 100, 'degree': 2, 'gamma': 0.01</td>\n",
       "      <td>'C': 100, 'degree': 3, 'gamma': 0.001</td>\n",
       "      <td>'C': 100, 'degree': 3, 'gamma': 0.01</td>\n",
       "    </tr>\n",
       "  </tbody>\n",
       "</table>\n",
       "<p>2 rows × 24 columns</p>\n",
       "</div>"
      ],
      "text/plain": [
       "                                                      0   \\\n",
       "identifier                                             0   \n",
       "identifier_name  'C': 0.001, 'degree': 2, 'gamma': 0.001   \n",
       "\n",
       "                                                     1   \\\n",
       "identifier                                            1   \n",
       "identifier_name  'C': 0.001, 'degree': 2, 'gamma': 0.01   \n",
       "\n",
       "                                                      2   \\\n",
       "identifier                                             2   \n",
       "identifier_name  'C': 0.001, 'degree': 3, 'gamma': 0.001   \n",
       "\n",
       "                                                     3   \\\n",
       "identifier                                            3   \n",
       "identifier_name  'C': 0.001, 'degree': 3, 'gamma': 0.01   \n",
       "\n",
       "                                                     4   \\\n",
       "identifier                                            4   \n",
       "identifier_name  'C': 0.01, 'degree': 2, 'gamma': 0.001   \n",
       "\n",
       "                                                    5   \\\n",
       "identifier                                           5   \n",
       "identifier_name  'C': 0.01, 'degree': 2, 'gamma': 0.01   \n",
       "\n",
       "                                                     6   \\\n",
       "identifier                                            6   \n",
       "identifier_name  'C': 0.01, 'degree': 3, 'gamma': 0.001   \n",
       "\n",
       "                                                    7   \\\n",
       "identifier                                           7   \n",
       "identifier_name  'C': 0.01, 'degree': 3, 'gamma': 0.01   \n",
       "\n",
       "                                                    8   \\\n",
       "identifier                                           8   \n",
       "identifier_name  'C': 0.1, 'degree': 2, 'gamma': 0.001   \n",
       "\n",
       "                                                   9   \\\n",
       "identifier                                          9   \n",
       "identifier_name  'C': 0.1, 'degree': 2, 'gamma': 0.01   \n",
       "\n",
       "                                 ...                   \\\n",
       "identifier                       ...                    \n",
       "identifier_name                  ...                    \n",
       "\n",
       "                                                  14  \\\n",
       "identifier                                        14   \n",
       "identifier_name  'C': 1, 'degree': 3, 'gamma': 0.001   \n",
       "\n",
       "                                                 15  \\\n",
       "identifier                                       15   \n",
       "identifier_name  'C': 1, 'degree': 3, 'gamma': 0.01   \n",
       "\n",
       "                                                   16  \\\n",
       "identifier                                         16   \n",
       "identifier_name  'C': 10, 'degree': 2, 'gamma': 0.001   \n",
       "\n",
       "                                                  17  \\\n",
       "identifier                                        17   \n",
       "identifier_name  'C': 10, 'degree': 2, 'gamma': 0.01   \n",
       "\n",
       "                                                   18  \\\n",
       "identifier                                         18   \n",
       "identifier_name  'C': 10, 'degree': 3, 'gamma': 0.001   \n",
       "\n",
       "                                                  19  \\\n",
       "identifier                                        19   \n",
       "identifier_name  'C': 10, 'degree': 3, 'gamma': 0.01   \n",
       "\n",
       "                                                    20  \\\n",
       "identifier                                          20   \n",
       "identifier_name  'C': 100, 'degree': 2, 'gamma': 0.001   \n",
       "\n",
       "                                                   21  \\\n",
       "identifier                                         21   \n",
       "identifier_name  'C': 100, 'degree': 2, 'gamma': 0.01   \n",
       "\n",
       "                                                    22  \\\n",
       "identifier                                          22   \n",
       "identifier_name  'C': 100, 'degree': 3, 'gamma': 0.001   \n",
       "\n",
       "                                                   23  \n",
       "identifier                                         23  \n",
       "identifier_name  'C': 100, 'degree': 3, 'gamma': 0.01  \n",
       "\n",
       "[2 rows x 24 columns]"
      ]
     },
     "execution_count": 93,
     "metadata": {},
     "output_type": "execute_result"
    }
   ],
   "source": [
    "polysvmclassresults = pd.DataFrame(psvm_grid_search.cv_results_)\n",
    "polysvmclassresults['identifier_name'] = polysvmclassresults.params.apply(lambda x: str(x).replace('{','').replace('}',''))\n",
    "polysvmclassresults['identifier'] = (polysvmclassresults.index)\n",
    "grid_train_test_plot(polysvmclassresults,'identifier','mean_train_score','mean_test_score','Grid Search Train Test Plot','Parameters','Scores',14,6,'hide')\n",
    "polysvmclassresults[['identifier','identifier_name']].transpose()"
   ]
  },
  {
   "cell_type": "code",
   "execution_count": 94,
   "metadata": {},
   "outputs": [
    {
     "name": "stdout",
     "output_type": "stream",
     "text": [
      "Poly Kernelized Support Vector Machine Classifier - Train Accuracy: 0.81\n",
      "Poly Kernelized Support Vector Machine Classifier - Test Accuracy: 0.80 \n"
     ]
    }
   ],
   "source": [
    "psvm_accuracy_train = psvm_grid_search.best_estimator_.score(X_train_pca, y_train)\n",
    "psvm_accuracy_test = psvm_grid_search.best_estimator_.score(X_test_pca, y_test)\n",
    "\n",
    "print('Poly Kernelized Support Vector Machine Classifier - Train Accuracy: %.2f'%psvm_accuracy_train)\n",
    "print('Poly Kernelized Support Vector Machine Classifier - Test Accuracy: %.2f '%psvm_accuracy_test)"
   ]
  },
  {
   "cell_type": "code",
   "execution_count": 95,
   "metadata": {},
   "outputs": [
    {
     "name": "stdout",
     "output_type": "stream",
     "text": [
      "Poly Kernelized Support Vector Machine Classifier - Train roc_auc_score: 0.50\n",
      "Poly Kernelized Support Vector Machine Classifier - Test roc_auc_score: 0.50 \n"
     ]
    }
   ],
   "source": [
    "psvm_auc_train = roc_auc_score(y_train,psvm_grid_search.predict(X_train_pca))\n",
    "psvm_auc_test = roc_auc_score(y_test,psvm_grid_search.predict(X_test_pca))\n",
    "\n",
    "print('Poly Kernelized Support Vector Machine Classifier - Train roc_auc_score: %.2f'%psvm_auc_train)\n",
    "print('Poly Kernelized Support Vector Machine Classifier - Test roc_auc_score: %.2f '%psvm_auc_test)"
   ]
  },
  {
   "cell_type": "code",
   "execution_count": 96,
   "metadata": {},
   "outputs": [],
   "source": [
    "report_table = report_table + [['Poly Kernelized Support Vector Machine Classifier',str(psvm_grid_search.best_params_).replace('{','').replace('}','').replace('\\'',''), psvm_accuracy_train, psvm_accuracy_test, psvm_auc_train, psvm_auc_test]]"
   ]
  },
  {
   "cell_type": "markdown",
   "metadata": {},
   "source": [
    "## Decision Tree Classifier"
   ]
  },
  {
   "cell_type": "markdown",
   "metadata": {},
   "source": [
    "Decision Tree Classifier poses a series of carefully crafted questions about the attributes of the test record. Each time it receive an answer, a follow-up question is asked until a conclusion about the class label of the record is reached."
   ]
  },
  {
   "cell_type": "code",
   "execution_count": 97,
   "metadata": {},
   "outputs": [],
   "source": [
    "from sklearn.model_selection import GridSearchCV\n",
    "dt_param_grid = {'max_depth':[1,2,3,4,5,6,7,8,9,10],'max_features':[1,2,3,4,5]}"
   ]
  },
  {
   "cell_type": "code",
   "execution_count": 98,
   "metadata": {},
   "outputs": [
    {
     "name": "stdout",
     "output_type": "stream",
     "text": [
      "Fitting 5 folds for each of 50 candidates, totalling 250 fits\n"
     ]
    },
    {
     "name": "stderr",
     "output_type": "stream",
     "text": [
      "[Parallel(n_jobs=-1)]: Done   2 tasks      | elapsed:    4.5s\n",
      "[Parallel(n_jobs=-1)]: Done   9 tasks      | elapsed:   16.2s\n",
      "[Parallel(n_jobs=-1)]: Done  16 tasks      | elapsed:   16.3s\n",
      "[Parallel(n_jobs=-1)]: Done  25 tasks      | elapsed:   16.4s\n",
      "[Parallel(n_jobs=-1)]: Done  34 tasks      | elapsed:   16.5s\n",
      "[Parallel(n_jobs=-1)]: Done  45 tasks      | elapsed:   16.6s\n",
      "[Parallel(n_jobs=-1)]: Batch computation too fast (0.1934s.) Setting batch_size=2.\n",
      "[Parallel(n_jobs=-1)]: Done  56 tasks      | elapsed:   16.8s\n",
      "[Parallel(n_jobs=-1)]: Done  70 tasks      | elapsed:   17.0s\n",
      "[Parallel(n_jobs=-1)]: Done  96 tasks      | elapsed:   17.2s\n",
      "[Parallel(n_jobs=-1)]: Done 126 tasks      | elapsed:   17.5s\n",
      "[Parallel(n_jobs=-1)]: Done 156 tasks      | elapsed:   17.9s\n",
      "[Parallel(n_jobs=-1)]: Done 190 tasks      | elapsed:   18.3s\n"
     ]
    },
    {
     "name": "stdout",
     "output_type": "stream",
     "text": [
      "Best Parameters : {'max_depth': 6, 'max_features': 5}\n",
      "Best cross_val score : 0.9502456776786896\n"
     ]
    },
    {
     "name": "stderr",
     "output_type": "stream",
     "text": [
      "[Parallel(n_jobs=-1)]: Done 250 out of 250 | elapsed:   19.0s finished\n"
     ]
    }
   ],
   "source": [
    "from sklearn.tree import DecisionTreeClassifier\n",
    "\n",
    "dt_grid_search= GridSearchCV( DecisionTreeClassifier(random_state = 10),dt_param_grid, cv=5, scoring='roc_auc', n_jobs = -1,verbose=10)\n",
    "dt_grid_search.fit(X_train_pca, y_train)\n",
    "print(\"Best Parameters : {}\".format(dt_grid_search.best_params_))\n",
    "print(\"Best cross_val score : {}\".format(dt_grid_search.best_score_))"
   ]
  },
  {
   "cell_type": "code",
   "execution_count": 99,
   "metadata": {},
   "outputs": [
    {
     "data": {
      "image/png": "[encoded data removed]",
      "text/plain": [
       "<Figure size 1008x432 with 1 Axes>"
      ]
     },
     "metadata": {},
     "output_type": "display_data"
    },
    {
     "data": {
      "text/html": [
       "<div>\n",
       "<style scoped>\n",
       "    .dataframe tbody tr th:only-of-type {\n",
       "        vertical-align: middle;\n",
       "    }\n",
       "\n",
       "    .dataframe tbody tr th {\n",
       "        vertical-align: top;\n",
       "    }\n",
       "\n",
       "    .dataframe thead th {\n",
       "        text-align: right;\n",
       "    }\n",
       "</style>\n",
       "<table border=\"1\" class=\"dataframe\">\n",
       "  <thead>\n",
       "    <tr style=\"text-align: right;\">\n",
       "      <th></th>\n",
       "      <th>0</th>\n",
       "      <th>1</th>\n",
       "      <th>2</th>\n",
       "      <th>3</th>\n",
       "      <th>4</th>\n",
       "      <th>5</th>\n",
       "      <th>6</th>\n",
       "      <th>7</th>\n",
       "      <th>8</th>\n",
       "      <th>9</th>\n",
       "      <th>...</th>\n",
       "      <th>40</th>\n",
       "      <th>41</th>\n",
       "      <th>42</th>\n",
       "      <th>43</th>\n",
       "      <th>44</th>\n",
       "      <th>45</th>\n",
       "      <th>46</th>\n",
       "      <th>47</th>\n",
       "      <th>48</th>\n",
       "      <th>49</th>\n",
       "    </tr>\n",
       "  </thead>\n",
       "  <tbody>\n",
       "    <tr>\n",
       "      <th>identifier</th>\n",
       "      <td>0</td>\n",
       "      <td>1</td>\n",
       "      <td>2</td>\n",
       "      <td>3</td>\n",
       "      <td>4</td>\n",
       "      <td>5</td>\n",
       "      <td>6</td>\n",
       "      <td>7</td>\n",
       "      <td>8</td>\n",
       "      <td>9</td>\n",
       "      <td>...</td>\n",
       "      <td>40</td>\n",
       "      <td>41</td>\n",
       "      <td>42</td>\n",
       "      <td>43</td>\n",
       "      <td>44</td>\n",
       "      <td>45</td>\n",
       "      <td>46</td>\n",
       "      <td>47</td>\n",
       "      <td>48</td>\n",
       "      <td>49</td>\n",
       "    </tr>\n",
       "    <tr>\n",
       "      <th>identifier_name</th>\n",
       "      <td>'max_depth': 1, 'max_features': 1</td>\n",
       "      <td>'max_depth': 1, 'max_features': 2</td>\n",
       "      <td>'max_depth': 1, 'max_features': 3</td>\n",
       "      <td>'max_depth': 1, 'max_features': 4</td>\n",
       "      <td>'max_depth': 1, 'max_features': 5</td>\n",
       "      <td>'max_depth': 2, 'max_features': 1</td>\n",
       "      <td>'max_depth': 2, 'max_features': 2</td>\n",
       "      <td>'max_depth': 2, 'max_features': 3</td>\n",
       "      <td>'max_depth': 2, 'max_features': 4</td>\n",
       "      <td>'max_depth': 2, 'max_features': 5</td>\n",
       "      <td>...</td>\n",
       "      <td>'max_depth': 9, 'max_features': 1</td>\n",
       "      <td>'max_depth': 9, 'max_features': 2</td>\n",
       "      <td>'max_depth': 9, 'max_features': 3</td>\n",
       "      <td>'max_depth': 9, 'max_features': 4</td>\n",
       "      <td>'max_depth': 9, 'max_features': 5</td>\n",
       "      <td>'max_depth': 10, 'max_features': 1</td>\n",
       "      <td>'max_depth': 10, 'max_features': 2</td>\n",
       "      <td>'max_depth': 10, 'max_features': 3</td>\n",
       "      <td>'max_depth': 10, 'max_features': 4</td>\n",
       "      <td>'max_depth': 10, 'max_features': 5</td>\n",
       "    </tr>\n",
       "  </tbody>\n",
       "</table>\n",
       "<p>2 rows × 50 columns</p>\n",
       "</div>"
      ],
      "text/plain": [
       "                                                0   \\\n",
       "identifier                                       0   \n",
       "identifier_name  'max_depth': 1, 'max_features': 1   \n",
       "\n",
       "                                                1   \\\n",
       "identifier                                       1   \n",
       "identifier_name  'max_depth': 1, 'max_features': 2   \n",
       "\n",
       "                                                2   \\\n",
       "identifier                                       2   \n",
       "identifier_name  'max_depth': 1, 'max_features': 3   \n",
       "\n",
       "                                                3   \\\n",
       "identifier                                       3   \n",
       "identifier_name  'max_depth': 1, 'max_features': 4   \n",
       "\n",
       "                                                4   \\\n",
       "identifier                                       4   \n",
       "identifier_name  'max_depth': 1, 'max_features': 5   \n",
       "\n",
       "                                                5   \\\n",
       "identifier                                       5   \n",
       "identifier_name  'max_depth': 2, 'max_features': 1   \n",
       "\n",
       "                                                6   \\\n",
       "identifier                                       6   \n",
       "identifier_name  'max_depth': 2, 'max_features': 2   \n",
       "\n",
       "                                                7   \\\n",
       "identifier                                       7   \n",
       "identifier_name  'max_depth': 2, 'max_features': 3   \n",
       "\n",
       "                                                8   \\\n",
       "identifier                                       8   \n",
       "identifier_name  'max_depth': 2, 'max_features': 4   \n",
       "\n",
       "                                                9   \\\n",
       "identifier                                       9   \n",
       "identifier_name  'max_depth': 2, 'max_features': 5   \n",
       "\n",
       "                                ...                  \\\n",
       "identifier                      ...                   \n",
       "identifier_name                 ...                   \n",
       "\n",
       "                                                40  \\\n",
       "identifier                                      40   \n",
       "identifier_name  'max_depth': 9, 'max_features': 1   \n",
       "\n",
       "                                                41  \\\n",
       "identifier                                      41   \n",
       "identifier_name  'max_depth': 9, 'max_features': 2   \n",
       "\n",
       "                                                42  \\\n",
       "identifier                                      42   \n",
       "identifier_name  'max_depth': 9, 'max_features': 3   \n",
       "\n",
       "                                                43  \\\n",
       "identifier                                      43   \n",
       "identifier_name  'max_depth': 9, 'max_features': 4   \n",
       "\n",
       "                                                44  \\\n",
       "identifier                                      44   \n",
       "identifier_name  'max_depth': 9, 'max_features': 5   \n",
       "\n",
       "                                                 45  \\\n",
       "identifier                                       45   \n",
       "identifier_name  'max_depth': 10, 'max_features': 1   \n",
       "\n",
       "                                                 46  \\\n",
       "identifier                                       46   \n",
       "identifier_name  'max_depth': 10, 'max_features': 2   \n",
       "\n",
       "                                                 47  \\\n",
       "identifier                                       47   \n",
       "identifier_name  'max_depth': 10, 'max_features': 3   \n",
       "\n",
       "                                                 48  \\\n",
       "identifier                                       48   \n",
       "identifier_name  'max_depth': 10, 'max_features': 4   \n",
       "\n",
       "                                                 49  \n",
       "identifier                                       49  \n",
       "identifier_name  'max_depth': 10, 'max_features': 5  \n",
       "\n",
       "[2 rows x 50 columns]"
      ]
     },
     "execution_count": 99,
     "metadata": {},
     "output_type": "execute_result"
    }
   ],
   "source": [
    "dtclassresults = pd.DataFrame(dt_grid_search.cv_results_)\n",
    "dtclassresults['identifier_name'] = dtclassresults.params.apply(lambda x: str(x).replace('{','').replace('}',''))\n",
    "dtclassresults['identifier'] = (dtclassresults.index)\n",
    "grid_train_test_plot(dtclassresults,'identifier','mean_train_score','mean_test_score','Grid Search Train Test Plot','Parameters','Scores',14,6,'hide')\n",
    "dtclassresults[['identifier','identifier_name']].transpose()"
   ]
  },
  {
   "cell_type": "code",
   "execution_count": 100,
   "metadata": {},
   "outputs": [
    {
     "name": "stdout",
     "output_type": "stream",
     "text": [
      "Decision Tree Classifier - Train Accuracy: 0.92\n",
      "Decision Tree Classifier - Test Accuracy: 0.90 \n"
     ]
    }
   ],
   "source": [
    "dt_accuracy_train = dt_grid_search.best_estimator_.score(X_train_pca, y_train)\n",
    "dt_accuracy_test = dt_grid_search.best_estimator_.score(X_test_pca, y_test)\n",
    "\n",
    "print('Decision Tree Classifier - Train Accuracy: %.2f'%dt_accuracy_train)\n",
    "print('Decision Tree Classifier - Test Accuracy: %.2f '%dt_accuracy_test)"
   ]
  },
  {
   "cell_type": "code",
   "execution_count": 101,
   "metadata": {},
   "outputs": [
    {
     "name": "stdout",
     "output_type": "stream",
     "text": [
      "Decision Tree Classifier - Train roc_auc_score: 0.83\n",
      "Decision Tree Classifier - Test roc_auc_score: 0.79 \n"
     ]
    }
   ],
   "source": [
    "dt_auc_train = roc_auc_score(y_train,dt_grid_search.predict(X_train_pca))\n",
    "dt_auc_test = roc_auc_score(y_test,dt_grid_search.predict(X_test_pca))\n",
    "\n",
    "print('Decision Tree Classifier - Train roc_auc_score: %.2f'%dt_auc_train)\n",
    "print('Decision Tree Classifier - Test roc_auc_score: %.2f '%dt_auc_test)"
   ]
  },
  {
   "cell_type": "code",
   "execution_count": 102,
   "metadata": {},
   "outputs": [],
   "source": [
    "report_table = report_table + [['Decision Tree Classifier', str(dt_grid_search.best_params_).replace('{','').replace('}','').replace('\\'',''), dt_accuracy_train, dt_accuracy_test, dt_auc_train, dt_auc_test]]"
   ]
  },
  {
   "cell_type": "code",
   "execution_count": 103,
   "metadata": {},
   "outputs": [],
   "source": [
    "report = pd.DataFrame(report_table,columns = ['Model Name', 'Model Parameters', 'Train Accuracy', 'Test Accuracy', 'Train AUC Score', 'Test AUC Score'])"
   ]
  },
  {
   "cell_type": "code",
   "execution_count": 104,
   "metadata": {},
   "outputs": [],
   "source": [
    "report.index = report['Model Name']\n",
    "report.drop(['Model Name'],axis=1,inplace=True)"
   ]
  },
  {
   "cell_type": "code",
   "execution_count": 105,
   "metadata": {},
   "outputs": [
    {
     "data": {
      "text/html": [
       "<div>\n",
       "<style scoped>\n",
       "    .dataframe tbody tr th:only-of-type {\n",
       "        vertical-align: middle;\n",
       "    }\n",
       "\n",
       "    .dataframe tbody tr th {\n",
       "        vertical-align: top;\n",
       "    }\n",
       "\n",
       "    .dataframe thead th {\n",
       "        text-align: right;\n",
       "    }\n",
       "</style>\n",
       "<table border=\"1\" class=\"dataframe\">\n",
       "  <thead>\n",
       "    <tr style=\"text-align: right;\">\n",
       "      <th></th>\n",
       "      <th>Model Parameters</th>\n",
       "      <th>Train Accuracy</th>\n",
       "      <th>Test Accuracy</th>\n",
       "      <th>Train AUC Score</th>\n",
       "      <th>Test AUC Score</th>\n",
       "    </tr>\n",
       "    <tr>\n",
       "      <th>Model Name</th>\n",
       "      <th></th>\n",
       "      <th></th>\n",
       "      <th></th>\n",
       "      <th></th>\n",
       "      <th></th>\n",
       "    </tr>\n",
       "  </thead>\n",
       "  <tbody>\n",
       "    <tr>\n",
       "      <th>K Neighbors Classifier</th>\n",
       "      <td>n_neighbors: 10</td>\n",
       "      <td>0.939144</td>\n",
       "      <td>0.931794</td>\n",
       "      <td>0.880049</td>\n",
       "      <td>0.865594</td>\n",
       "    </tr>\n",
       "    <tr>\n",
       "      <th>Logistic Regression</th>\n",
       "      <td>C: 100, penalty: l2</td>\n",
       "      <td>0.862651</td>\n",
       "      <td>0.853641</td>\n",
       "      <td>0.644656</td>\n",
       "      <td>0.626134</td>\n",
       "    </tr>\n",
       "    <tr>\n",
       "      <th>Linear Support Vector Machine Classifier</th>\n",
       "      <td>C: 10, loss: squared_hinge, penalty: l2</td>\n",
       "      <td>0.833333</td>\n",
       "      <td>0.824867</td>\n",
       "      <td>0.567742</td>\n",
       "      <td>0.552632</td>\n",
       "    </tr>\n",
       "    <tr>\n",
       "      <th>Linear Kernelized Support Vector Machine Classifier</th>\n",
       "      <td>C: 100</td>\n",
       "      <td>0.882018</td>\n",
       "      <td>0.870693</td>\n",
       "      <td>0.695412</td>\n",
       "      <td>0.669691</td>\n",
       "    </tr>\n",
       "    <tr>\n",
       "      <th>RBF Kernelized Support Vector Machine Classifier</th>\n",
       "      <td>C: 100, gamma: 100</td>\n",
       "      <td>0.921731</td>\n",
       "      <td>0.914387</td>\n",
       "      <td>0.822435</td>\n",
       "      <td>0.806024</td>\n",
       "    </tr>\n",
       "    <tr>\n",
       "      <th>Poly Kernelized Support Vector Machine Classifier</th>\n",
       "      <td>C: 1, degree: 2, gamma: 0.01</td>\n",
       "      <td>0.807214</td>\n",
       "      <td>0.804263</td>\n",
       "      <td>0.500000</td>\n",
       "      <td>0.500000</td>\n",
       "    </tr>\n",
       "    <tr>\n",
       "      <th>Decision Tree Classifier</th>\n",
       "      <td>max_depth: 6, max_features: 5</td>\n",
       "      <td>0.920487</td>\n",
       "      <td>0.903375</td>\n",
       "      <td>0.826751</td>\n",
       "      <td>0.794372</td>\n",
       "    </tr>\n",
       "  </tbody>\n",
       "</table>\n",
       "</div>"
      ],
      "text/plain": [
       "                                                                           Model Parameters  \\\n",
       "Model Name                                                                                    \n",
       "K Neighbors Classifier                                                      n_neighbors: 10   \n",
       "Logistic Regression                                                     C: 100, penalty: l2   \n",
       "Linear Support Vector Machine Classifier            C: 10, loss: squared_hinge, penalty: l2   \n",
       "Linear Kernelized Support Vector Machine Classi...                                   C: 100   \n",
       "RBF Kernelized Support Vector Machine Classifier                         C: 100, gamma: 100   \n",
       "Poly Kernelized Support Vector Machine Classifier              C: 1, degree: 2, gamma: 0.01   \n",
       "Decision Tree Classifier                                      max_depth: 6, max_features: 5   \n",
       "\n",
       "                                                    Train Accuracy  \\\n",
       "Model Name                                                           \n",
       "K Neighbors Classifier                                    0.939144   \n",
       "Logistic Regression                                       0.862651   \n",
       "Linear Support Vector Machine Classifier                  0.833333   \n",
       "Linear Kernelized Support Vector Machine Classi...        0.882018   \n",
       "RBF Kernelized Support Vector Machine Classifier          0.921731   \n",
       "Poly Kernelized Support Vector Machine Classifier         0.807214   \n",
       "Decision Tree Classifier                                  0.920487   \n",
       "\n",
       "                                                    Test Accuracy  \\\n",
       "Model Name                                                          \n",
       "K Neighbors Classifier                                   0.931794   \n",
       "Logistic Regression                                      0.853641   \n",
       "Linear Support Vector Machine Classifier                 0.824867   \n",
       "Linear Kernelized Support Vector Machine Classi...       0.870693   \n",
       "RBF Kernelized Support Vector Machine Classifier         0.914387   \n",
       "Poly Kernelized Support Vector Machine Classifier        0.804263   \n",
       "Decision Tree Classifier                                 0.903375   \n",
       "\n",
       "                                                    Train AUC Score  \\\n",
       "Model Name                                                            \n",
       "K Neighbors Classifier                                     0.880049   \n",
       "Logistic Regression                                        0.644656   \n",
       "Linear Support Vector Machine Classifier                   0.567742   \n",
       "Linear Kernelized Support Vector Machine Classi...         0.695412   \n",
       "RBF Kernelized Support Vector Machine Classifier           0.822435   \n",
       "Poly Kernelized Support Vector Machine Classifier          0.500000   \n",
       "Decision Tree Classifier                                   0.826751   \n",
       "\n",
       "                                                    Test AUC Score  \n",
       "Model Name                                                          \n",
       "K Neighbors Classifier                                    0.865594  \n",
       "Logistic Regression                                       0.626134  \n",
       "Linear Support Vector Machine Classifier                  0.552632  \n",
       "Linear Kernelized Support Vector Machine Classi...        0.669691  \n",
       "RBF Kernelized Support Vector Machine Classifier          0.806024  \n",
       "Poly Kernelized Support Vector Machine Classifier         0.500000  \n",
       "Decision Tree Classifier                                  0.794372  "
      ]
     },
     "execution_count": 105,
     "metadata": {},
     "output_type": "execute_result"
    }
   ],
   "source": [
    "report"
   ]
  },
  {
   "cell_type": "markdown",
   "metadata": {},
   "source": [
    "Train and test scores of KNN Classifier, RBF Kernelized Support Vector Classifier and Decision Tree Classifier are on the higher end i.e. between 0.82 to 0.88.  For all the other models, the train and test scores post PCA have drastically fallen down.\n",
    "\n",
    "KNearestNeighbors Classifier with train and test score of 0.88 and 0.86 respectively, are considered as the best model for the PCA applied dataset."
   ]
  },
  {
   "cell_type": "code",
   "execution_count": 106,
   "metadata": {},
   "outputs": [],
   "source": [
    "report['identifier'] = report.index\n",
    "report['identifier'] = report.identifier.apply(lambda x: str(x).replace('Classifier','').replace('Support Vector Machine','SVM'))"
   ]
  },
  {
   "cell_type": "code",
   "execution_count": 107,
   "metadata": {},
   "outputs": [],
   "source": [
    "old_table.index=old_table['Model Name']\n",
    "old_table.drop(['Model Name'],axis=1,inplace=True)"
   ]
  },
  {
   "cell_type": "code",
   "execution_count": 108,
   "metadata": {},
   "outputs": [],
   "source": [
    "old_table['identifier'] = old_table.index\n",
    "old_table['identifier'] = old_table.identifier.apply(lambda x: str(x).replace('Classifier','').replace('Support Vector Machine','SVM'))"
   ]
  },
  {
   "cell_type": "code",
   "execution_count": 109,
   "metadata": {},
   "outputs": [
    {
     "data": {
      "text/html": [
       "<div>\n",
       "<style scoped>\n",
       "    .dataframe tbody tr th:only-of-type {\n",
       "        vertical-align: middle;\n",
       "    }\n",
       "\n",
       "    .dataframe tbody tr th {\n",
       "        vertical-align: top;\n",
       "    }\n",
       "\n",
       "    .dataframe thead th {\n",
       "        text-align: right;\n",
       "    }\n",
       "</style>\n",
       "<table border=\"1\" class=\"dataframe\">\n",
       "  <thead>\n",
       "    <tr style=\"text-align: right;\">\n",
       "      <th></th>\n",
       "      <th>Model Parameters</th>\n",
       "      <th>Train Accuracy</th>\n",
       "      <th>Test Accuracy</th>\n",
       "      <th>Train AUC Score</th>\n",
       "      <th>Test AUC Score</th>\n",
       "      <th>identifier</th>\n",
       "    </tr>\n",
       "    <tr>\n",
       "      <th>Model Name</th>\n",
       "      <th></th>\n",
       "      <th></th>\n",
       "      <th></th>\n",
       "      <th></th>\n",
       "      <th></th>\n",
       "      <th></th>\n",
       "    </tr>\n",
       "  </thead>\n",
       "  <tbody>\n",
       "    <tr>\n",
       "      <th>K Neighbors Classifier</th>\n",
       "      <td>n_neighbors: 10</td>\n",
       "      <td>0.970149</td>\n",
       "      <td>0.961989</td>\n",
       "      <td>0.939768</td>\n",
       "      <td>0.924188</td>\n",
       "      <td>K Neighbors</td>\n",
       "    </tr>\n",
       "    <tr>\n",
       "      <th>Logistic Regression</th>\n",
       "      <td>C: 10 , penalty: l1</td>\n",
       "      <td>0.969172</td>\n",
       "      <td>0.966607</td>\n",
       "      <td>0.941443</td>\n",
       "      <td>0.936672</td>\n",
       "      <td>Logistic Regression</td>\n",
       "    </tr>\n",
       "    <tr>\n",
       "      <th>Linear Support Vector Machine Classifier</th>\n",
       "      <td>C: 1, dual: False, loss: squared_hinge, penalt...</td>\n",
       "      <td>0.967395</td>\n",
       "      <td>0.966607</td>\n",
       "      <td>0.934555</td>\n",
       "      <td>0.933925</td>\n",
       "      <td>Linear SVM</td>\n",
       "    </tr>\n",
       "    <tr>\n",
       "      <th>Linear Kernelized Support Vector Machine Classifier</th>\n",
       "      <td>C: 100</td>\n",
       "      <td>0.969083</td>\n",
       "      <td>0.966963</td>\n",
       "      <td>0.942966</td>\n",
       "      <td>0.938952</td>\n",
       "      <td>Linear Kernelized SVM</td>\n",
       "    </tr>\n",
       "    <tr>\n",
       "      <th>RBF Kernelized Support Vector Machine Classifier</th>\n",
       "      <td>C: 0.1, gamma: 0.01</td>\n",
       "      <td>0.809879</td>\n",
       "      <td>0.807460</td>\n",
       "      <td>0.506912</td>\n",
       "      <td>0.508167</td>\n",
       "      <td>RBF Kernelized SVM</td>\n",
       "    </tr>\n",
       "    <tr>\n",
       "      <th>Poly Kernelized Support Vector Machine Classifier</th>\n",
       "      <td>C: 10, degree: 2, gamma: 0.01</td>\n",
       "      <td>0.884684</td>\n",
       "      <td>0.879218</td>\n",
       "      <td>0.702149</td>\n",
       "      <td>0.691470</td>\n",
       "      <td>Poly Kernelized SVM</td>\n",
       "    </tr>\n",
       "    <tr>\n",
       "      <th>Decision Tree Classifier</th>\n",
       "      <td>max_depth: 5, max_features: 7</td>\n",
       "      <td>0.970593</td>\n",
       "      <td>0.960924</td>\n",
       "      <td>0.948813</td>\n",
       "      <td>0.931078</td>\n",
       "      <td>Decision Tree</td>\n",
       "    </tr>\n",
       "  </tbody>\n",
       "</table>\n",
       "</div>"
      ],
      "text/plain": [
       "                                                                                     Model Parameters  \\\n",
       "Model Name                                                                                              \n",
       "K Neighbors Classifier                                                                n_neighbors: 10   \n",
       "Logistic Regression                                                               C: 10 , penalty: l1   \n",
       "Linear Support Vector Machine Classifier            C: 1, dual: False, loss: squared_hinge, penalt...   \n",
       "Linear Kernelized Support Vector Machine Classi...                                             C: 100   \n",
       "RBF Kernelized Support Vector Machine Classifier                                  C: 0.1, gamma: 0.01   \n",
       "Poly Kernelized Support Vector Machine Classifier                       C: 10, degree: 2, gamma: 0.01   \n",
       "Decision Tree Classifier                                                max_depth: 5, max_features: 7   \n",
       "\n",
       "                                                    Train Accuracy  \\\n",
       "Model Name                                                           \n",
       "K Neighbors Classifier                                    0.970149   \n",
       "Logistic Regression                                       0.969172   \n",
       "Linear Support Vector Machine Classifier                  0.967395   \n",
       "Linear Kernelized Support Vector Machine Classi...        0.969083   \n",
       "RBF Kernelized Support Vector Machine Classifier          0.809879   \n",
       "Poly Kernelized Support Vector Machine Classifier         0.884684   \n",
       "Decision Tree Classifier                                  0.970593   \n",
       "\n",
       "                                                    Test Accuracy  \\\n",
       "Model Name                                                          \n",
       "K Neighbors Classifier                                   0.961989   \n",
       "Logistic Regression                                      0.966607   \n",
       "Linear Support Vector Machine Classifier                 0.966607   \n",
       "Linear Kernelized Support Vector Machine Classi...       0.966963   \n",
       "RBF Kernelized Support Vector Machine Classifier         0.807460   \n",
       "Poly Kernelized Support Vector Machine Classifier        0.879218   \n",
       "Decision Tree Classifier                                 0.960924   \n",
       "\n",
       "                                                    Train AUC Score  \\\n",
       "Model Name                                                            \n",
       "K Neighbors Classifier                                     0.939768   \n",
       "Logistic Regression                                        0.941443   \n",
       "Linear Support Vector Machine Classifier                   0.934555   \n",
       "Linear Kernelized Support Vector Machine Classi...         0.942966   \n",
       "RBF Kernelized Support Vector Machine Classifier           0.506912   \n",
       "Poly Kernelized Support Vector Machine Classifier          0.702149   \n",
       "Decision Tree Classifier                                   0.948813   \n",
       "\n",
       "                                                    Test AUC Score  \\\n",
       "Model Name                                                           \n",
       "K Neighbors Classifier                                    0.924188   \n",
       "Logistic Regression                                       0.936672   \n",
       "Linear Support Vector Machine Classifier                  0.933925   \n",
       "Linear Kernelized Support Vector Machine Classi...        0.938952   \n",
       "RBF Kernelized Support Vector Machine Classifier          0.508167   \n",
       "Poly Kernelized Support Vector Machine Classifier         0.691470   \n",
       "Decision Tree Classifier                                  0.931078   \n",
       "\n",
       "                                                                identifier  \n",
       "Model Name                                                                  \n",
       "K Neighbors Classifier                                        K Neighbors   \n",
       "Logistic Regression                                    Logistic Regression  \n",
       "Linear Support Vector Machine Classifier                       Linear SVM   \n",
       "Linear Kernelized Support Vector Machine Classi...  Linear Kernelized SVM   \n",
       "RBF Kernelized Support Vector Machine Classifier       RBF Kernelized SVM   \n",
       "Poly Kernelized Support Vector Machine Classifier     Poly Kernelized SVM   \n",
       "Decision Tree Classifier                                    Decision Tree   "
      ]
     },
     "execution_count": 109,
     "metadata": {},
     "output_type": "execute_result"
    }
   ],
   "source": [
    "old_table"
   ]
  },
  {
   "cell_type": "markdown",
   "metadata": {},
   "source": [
    "### PCA Vs Non PCA Fitted Hypertuned Models Plot - Training Data"
   ]
  },
  {
   "cell_type": "code",
   "execution_count": 110,
   "metadata": {},
   "outputs": [
    {
     "data": {
      "image/png": "[encoded data removed]",
      "text/plain": [
       "<Figure size 1296x432 with 1 Axes>"
      ]
     },
     "metadata": {},
     "output_type": "display_data"
    }
   ],
   "source": [
    "%matplotlib inline\n",
    "fig = plt.figure(figsize=(18,6))\n",
    "ax = fig.add_subplot(111,facecolor='darkslategray')\n",
    "opacity=0.7\n",
    "ax.plot(report['identifier'], report['Train AUC Score'], c = 'cyan',linewidth=2,alpha=opacity,label='With PCA')\n",
    "#ax.plot(report['identifier'], report['Test AUC Score'], c = 'green',linewidth=2,alpha=opacity)\n",
    "ax.scatter(report['identifier'], report['Train AUC Score'], c = 'cyan',alpha=opacity)\n",
    "#ax.scatter(report['identifier'], report['Test AUC Score'], c = 'green',alpha=opacity)\n",
    "ax.plot(old_table['identifier'], old_table['Train AUC Score'], '--',c = 'tomato',linewidth=2,alpha=opacity,label='Without PCA')\n",
    "#ax.plot(old_table['identifier'], old_table['Test AUC Score'], c = 'lightgreen',linewidth=2,alpha=opacity)\n",
    "ax.scatter(old_table['identifier'], old_table['Train AUC Score'], c = 'tomato',alpha=opacity)\n",
    "for i,j in zip(report['identifier'],round(report['Train AUC Score'],3)):\n",
    "    ax.annotate(str(j),xy=(i,j-0.02),color='white',weight='bold')\n",
    "for i,j in zip(old_table['identifier'],round(old_table['Train AUC Score'],3)):\n",
    "    ax.annotate(str(j),xy=(i,j-0.02),color='white',weight='bold')\n",
    "ax.legend()\n",
    "ax.set_title('Hyper Tuned Models - Train Accuracy Plot',fontsize=20,weight='bold')\n",
    "ax.set_xlabel('Regression Models',fontsize=10,weight='bold')\n",
    "ax.set_ylabel('Train AUC Scores',fontsize=10,weight='bold')\n",
    "handles, labels = ax.get_legend_handles_labels()\n",
    "plt.show()"
   ]
  },
  {
   "cell_type": "markdown",
   "metadata": {},
   "source": [
    "### PCA Vs Non PCA Fitted Hypertuned Models Plot - Testing Data"
   ]
  },
  {
   "cell_type": "code",
   "execution_count": 111,
   "metadata": {},
   "outputs": [
    {
     "data": {
      "image/png": "[encoded data removed]",
      "text/plain": [
       "<Figure size 1296x432 with 1 Axes>"
      ]
     },
     "metadata": {},
     "output_type": "display_data"
    }
   ],
   "source": [
    "%matplotlib inline\n",
    "fig = plt.figure(figsize=(18,6))\n",
    "ax = fig.add_subplot(111,facecolor='darkslategray')\n",
    "opacity=0.7\n",
    "#ax.plot(report['identifier'], report['Train AUC Score'], '--',c = 'cyan',linewidth=2,alpha=opacity,label='With PCA')\n",
    "ax.plot(report['identifier'], report['Test AUC Score'], c = 'green',linewidth=2,alpha=opacity,label='With PCA')\n",
    "#ax.scatter(report['identifier'], report['Train AUC Score'], c = 'cyan',alpha=opacity)\n",
    "ax.scatter(report['identifier'], report['Test AUC Score'], c = 'green',alpha=opacity)\n",
    "#ax.plot(old_table['identifier'], old_table['Train AUC Score'], '--',c = 'tomato',linewidth=2,alpha=opacity,label='Without PCA')\n",
    "ax.plot(old_table['identifier'], old_table['Test AUC Score'],'--', c = 'lightgreen',linewidth=2,alpha=opacity,label='Without PCA')\n",
    "ax.scatter(old_table['identifier'], old_table['Test AUC Score'], c = 'lightgreen',alpha=opacity)\n",
    "for i,j in zip(report['identifier'],round(report['Test AUC Score'],3)):\n",
    "    ax.annotate(str(j),xy=(i,j-0.02),color='white',weight='bold')\n",
    "for i,j in zip(old_table['identifier'],round(old_table['Test AUC Score'],3)):\n",
    "    ax.annotate(str(j),xy=(i,j-0.02),color='white',weight='bold')\n",
    "ax.legend()\n",
    "ax.set_title('Hyper Tuned Models - Test Accuracy Plot',fontsize=20,weight='bold')\n",
    "ax.set_xlabel('Regression Models',fontsize=10,weight='bold')\n",
    "ax.set_ylabel('Test AUC Scores',fontsize=10,weight='bold')\n",
    "handles, labels = ax.get_legend_handles_labels()\n",
    "plt.show()"
   ]
  },
  {
   "cell_type": "markdown",
   "metadata": {},
   "source": [
    "## Comparison Study"
   ]
  },
  {
   "cell_type": "markdown",
   "metadata": {},
   "source": [
    "#### Looking at the plots of Train and Test scores for all the models, we found the following\n",
    "- The accuracy for Logistic, LinearSVM, SVC(Linear,RBF and Poly) are poorer for PCA applied dataset than the raw dataset.\n",
    "- KNearestNeighbors and Decision Tree have better accuracies when compared to all other models in general.\n",
    "- On the whole, applying PCA on this dataset has not helped in improving the model accuracies.\n",
    "\n",
    "Though PCA has reduced number of dimensions but the accuracy scores of most of the models like Logistic, Linear SVM, Kernel SVM have been significantly affected. Except KNN and Decision Tree, they haven't taken a significant toll on their accuracy scores. Also, by applying PCA to our dataset, we loose ability to interpret the data."
   ]
  },
  {
   "cell_type": "markdown",
   "metadata": {},
   "source": [
    "## Deep Learning Model"
   ]
  },
  {
   "cell_type": "code",
   "execution_count": 112,
   "metadata": {},
   "outputs": [],
   "source": [
    "from tensorflow.keras.models import Sequential\n",
    "from tensorflow.keras.layers import Dense\n",
    "import numpy\n",
    "\n",
    "# fix random seed for reproducibility\n",
    "numpy.random.seed(10)"
   ]
  },
  {
   "cell_type": "code",
   "execution_count": 113,
   "metadata": {},
   "outputs": [],
   "source": [
    "# create model\n",
    "dl_model = Sequential()\n",
    "dl_model.add(Dense(12, input_dim=d, activation='relu'))\n",
    "dl_model.add(Dense(8, activation='relu'))\n",
    "dl_model.add(Dense(1, activation='sigmoid'))"
   ]
  },
  {
   "cell_type": "code",
   "execution_count": 114,
   "metadata": {},
   "outputs": [],
   "source": [
    "# Compile model\n",
    "dl_model.compile(loss='binary_crossentropy', optimizer='adam', metrics=['accuracy'])"
   ]
  },
  {
   "cell_type": "code",
   "execution_count": 115,
   "metadata": {},
   "outputs": [
    {
     "name": "stdout",
     "output_type": "stream",
     "text": [
      "Epoch 1/150\n",
      "11256/11256 [==============================] - 1s 115us/step - loss: 0.4576 - acc: 0.8059\n",
      "Epoch 2/150\n",
      "11256/11256 [==============================] - 1s 88us/step - loss: 0.4352 - acc: 0.8072\n",
      "Epoch 3/150\n",
      "11256/11256 [==============================] - 1s 87us/step - loss: 0.4301 - acc: 0.8073\n",
      "Epoch 4/150\n",
      "11256/11256 [==============================] - 1s 88us/step - loss: 0.4223 - acc: 0.8090\n",
      "Epoch 5/150\n",
      "11256/11256 [==============================] - 1s 88us/step - loss: 0.4126 - acc: 0.8124\n",
      "Epoch 6/150\n",
      "11256/11256 [==============================] - 1s 100us/step - loss: 0.4030 - acc: 0.8153\n",
      "Epoch 7/150\n",
      "11256/11256 [==============================] - 1s 113us/step - loss: 0.3931 - acc: 0.8198\n",
      "Epoch 8/150\n",
      "11256/11256 [==============================] - 1s 106us/step - loss: 0.3843 - acc: 0.8275\n",
      "Epoch 9/150\n",
      "11256/11256 [==============================] - 1s 87us/step - loss: 0.3751 - acc: 0.8348\n",
      "Epoch 10/150\n",
      "11256/11256 [==============================] - 1s 87us/step - loss: 0.3679 - acc: 0.8436\n",
      "Epoch 11/150\n",
      "11256/11256 [==============================] - 1s 87us/step - loss: 0.3578 - acc: 0.8522\n",
      "Epoch 12/150\n",
      "11256/11256 [==============================] - 1s 87us/step - loss: 0.3495 - acc: 0.8592\n",
      "Epoch 13/150\n",
      "11256/11256 [==============================] - 1s 87us/step - loss: 0.3390 - acc: 0.8687\n",
      "Epoch 14/150\n",
      "11256/11256 [==============================] - 1s 88us/step - loss: 0.3283 - acc: 0.8756\n",
      "Epoch 15/150\n",
      "11256/11256 [==============================] - 1s 89us/step - loss: 0.3199 - acc: 0.8829\n",
      "Epoch 16/150\n",
      "11256/11256 [==============================] - 1s 88us/step - loss: 0.3112 - acc: 0.8875\n",
      "Epoch 17/150\n",
      "11256/11256 [==============================] - 1s 88us/step - loss: 0.3053 - acc: 0.8919\n",
      "Epoch 18/150\n",
      "11256/11256 [==============================] - 1s 88us/step - loss: 0.2972 - acc: 0.8959\n",
      "Epoch 19/150\n",
      "11256/11256 [==============================] - 1s 87us/step - loss: 0.2913 - acc: 0.9001\n",
      "Epoch 20/150\n",
      "11256/11256 [==============================] - 1s 87us/step - loss: 0.2858 - acc: 0.9032\n",
      "Epoch 21/150\n",
      "11256/11256 [==============================] - 1s 87us/step - loss: 0.2810 - acc: 0.9054\n",
      "Epoch 22/150\n",
      "11256/11256 [==============================] - 1s 88us/step - loss: 0.2761 - acc: 0.9070\n",
      "Epoch 23/150\n",
      "11256/11256 [==============================] - 1s 88us/step - loss: 0.2741 - acc: 0.9093\n",
      "Epoch 24/150\n",
      "11256/11256 [==============================] - 1s 88us/step - loss: 0.2713 - acc: 0.9097\n",
      "Epoch 25/150\n",
      "11256/11256 [==============================] - 1s 88us/step - loss: 0.2692 - acc: 0.9118\n",
      "Epoch 26/150\n",
      "11256/11256 [==============================] - 1s 87us/step - loss: 0.2673 - acc: 0.9106\n",
      "Epoch 27/150\n",
      "11256/11256 [==============================] - 1s 88us/step - loss: 0.2657 - acc: 0.9128\n",
      "Epoch 28/150\n",
      "11256/11256 [==============================] - 1s 88us/step - loss: 0.2656 - acc: 0.9127\n",
      "Epoch 29/150\n",
      "11256/11256 [==============================] - 1s 87us/step - loss: 0.2607 - acc: 0.9144\n",
      "Epoch 30/150\n",
      "11256/11256 [==============================] - 1s 88us/step - loss: 0.2608 - acc: 0.9129\n",
      "Epoch 31/150\n",
      "11256/11256 [==============================] - 1s 87us/step - loss: 0.2584 - acc: 0.9160\n",
      "Epoch 32/150\n",
      "11256/11256 [==============================] - 1s 88us/step - loss: 0.2573 - acc: 0.9139\n",
      "Epoch 33/150\n",
      "11256/11256 [==============================] - 1s 88us/step - loss: 0.2570 - acc: 0.9150\n",
      "Epoch 34/150\n",
      "11256/11256 [==============================] - 1s 88us/step - loss: 0.2562 - acc: 0.9152\n",
      "Epoch 35/150\n",
      "11256/11256 [==============================] - 1s 90us/step - loss: 0.2535 - acc: 0.9165\n",
      "Epoch 36/150\n",
      "11256/11256 [==============================] - 1s 90us/step - loss: 0.2538 - acc: 0.9157\n",
      "Epoch 37/150\n",
      "11256/11256 [==============================] - 1s 89us/step - loss: 0.2525 - acc: 0.9165\n",
      "Epoch 38/150\n",
      "11256/11256 [==============================] - 1s 87us/step - loss: 0.2552 - acc: 0.9136\n",
      "Epoch 39/150\n",
      "11256/11256 [==============================] - 1s 88us/step - loss: 0.2496 - acc: 0.9148\n",
      "Epoch 40/150\n",
      "11256/11256 [==============================] - 1s 88us/step - loss: 0.2516 - acc: 0.9142\n",
      "Epoch 41/150\n",
      "11256/11256 [==============================] - 1s 88us/step - loss: 0.2517 - acc: 0.9150\n",
      "Epoch 42/150\n",
      "11256/11256 [==============================] - 1s 88us/step - loss: 0.2475 - acc: 0.9168\n",
      "Epoch 43/150\n",
      "11256/11256 [==============================] - 1s 87us/step - loss: 0.2470 - acc: 0.9167\n",
      "Epoch 44/150\n",
      "11256/11256 [==============================] - 1s 88us/step - loss: 0.2464 - acc: 0.9162\n",
      "Epoch 45/150\n",
      "11256/11256 [==============================] - 1s 88us/step - loss: 0.2474 - acc: 0.9152\n",
      "Epoch 46/150\n",
      "11256/11256 [==============================] - 1s 88us/step - loss: 0.2467 - acc: 0.9152\n",
      "Epoch 47/150\n",
      "11256/11256 [==============================] - 1s 87us/step - loss: 0.2452 - acc: 0.9165\n",
      "Epoch 48/150\n",
      "11256/11256 [==============================] - 1s 88us/step - loss: 0.2459 - acc: 0.9152\n",
      "Epoch 49/150\n",
      "11256/11256 [==============================] - 1s 88us/step - loss: 0.2464 - acc: 0.9157\n",
      "Epoch 50/150\n",
      "11256/11256 [==============================] - 1s 88us/step - loss: 0.2455 - acc: 0.9183\n",
      "Epoch 51/150\n",
      "11256/11256 [==============================] - 1s 88us/step - loss: 0.2432 - acc: 0.9171\n",
      "Epoch 52/150\n",
      "11256/11256 [==============================] - 1s 87us/step - loss: 0.2453 - acc: 0.9141\n",
      "Epoch 53/150\n",
      "11256/11256 [==============================] - 1s 87us/step - loss: 0.2421 - acc: 0.9177\n",
      "Epoch 54/150\n",
      "11256/11256 [==============================] - 1s 89us/step - loss: 0.2449 - acc: 0.9157\n",
      "Epoch 55/150\n",
      "11256/11256 [==============================] - 1s 87us/step - loss: 0.2428 - acc: 0.9177\n",
      "Epoch 56/150\n",
      "11256/11256 [==============================] - 1s 87us/step - loss: 0.2402 - acc: 0.9187\n",
      "Epoch 57/150\n",
      "11256/11256 [==============================] - 1s 86us/step - loss: 0.2424 - acc: 0.9148\n",
      "Epoch 58/150\n",
      "11256/11256 [==============================] - 1s 87us/step - loss: 0.2405 - acc: 0.9179\n",
      "Epoch 59/150\n",
      "11256/11256 [==============================] - 1s 87us/step - loss: 0.2431 - acc: 0.9168\n",
      "Epoch 60/150\n",
      "11256/11256 [==============================] - 1s 87us/step - loss: 0.2398 - acc: 0.9186\n",
      "Epoch 61/150\n",
      "11256/11256 [==============================] - 1s 87us/step - loss: 0.2430 - acc: 0.9153\n",
      "Epoch 62/150\n",
      "11256/11256 [==============================] - 1s 87us/step - loss: 0.2409 - acc: 0.9146\n",
      "Epoch 63/150\n",
      "11256/11256 [==============================] - 1s 87us/step - loss: 0.2377 - acc: 0.9168\n",
      "Epoch 64/150\n",
      "11256/11256 [==============================] - 1s 90us/step - loss: 0.2381 - acc: 0.9165\n",
      "Epoch 65/150\n",
      "11256/11256 [==============================] - 1s 87us/step - loss: 0.2366 - acc: 0.9149\n",
      "Epoch 66/150\n",
      "11256/11256 [==============================] - 1s 86us/step - loss: 0.2369 - acc: 0.9184\n",
      "Epoch 67/150\n",
      "11256/11256 [==============================] - 1s 87us/step - loss: 0.2342 - acc: 0.9197\n",
      "Epoch 68/150\n",
      "11256/11256 [==============================] - 1s 87us/step - loss: 0.2356 - acc: 0.9162\n",
      "Epoch 69/150\n",
      "11256/11256 [==============================] - 1s 87us/step - loss: 0.2380 - acc: 0.9171\n",
      "Epoch 70/150\n",
      "11256/11256 [==============================] - 1s 88us/step - loss: 0.2356 - acc: 0.9162\n",
      "Epoch 71/150\n",
      "11256/11256 [==============================] - 1s 87us/step - loss: 0.2366 - acc: 0.9163\n",
      "Epoch 72/150\n",
      "11256/11256 [==============================] - 1s 87us/step - loss: 0.2377 - acc: 0.9165\n",
      "Epoch 73/150\n",
      "11256/11256 [==============================] - 1s 87us/step - loss: 0.2347 - acc: 0.9166\n",
      "Epoch 74/150\n",
      "11256/11256 [==============================] - 1s 86us/step - loss: 0.2331 - acc: 0.9174\n",
      "Epoch 75/150\n",
      "11256/11256 [==============================] - 1s 87us/step - loss: 0.2311 - acc: 0.9185\n",
      "Epoch 76/150\n",
      "11256/11256 [==============================] - 1s 87us/step - loss: 0.2307 - acc: 0.9169\n",
      "Epoch 77/150\n",
      "11256/11256 [==============================] - 1s 86us/step - loss: 0.2370 - acc: 0.9163\n",
      "Epoch 78/150\n",
      "11256/11256 [==============================] - 1s 87us/step - loss: 0.2344 - acc: 0.9163\n",
      "Epoch 79/150\n",
      "11256/11256 [==============================] - 1s 87us/step - loss: 0.2315 - acc: 0.9167\n",
      "Epoch 80/150\n",
      "11256/11256 [==============================] - 1s 88us/step - loss: 0.2313 - acc: 0.9193\n",
      "Epoch 81/150\n",
      "11256/11256 [==============================] - 1s 87us/step - loss: 0.2290 - acc: 0.9184\n",
      "Epoch 82/150\n",
      "11256/11256 [==============================] - 1s 88us/step - loss: 0.2304 - acc: 0.9168\n",
      "Epoch 83/150\n",
      "11256/11256 [==============================] - 1s 90us/step - loss: 0.2270 - acc: 0.9169\n",
      "Epoch 84/150\n",
      "11256/11256 [==============================] - 1s 87us/step - loss: 0.2269 - acc: 0.9188\n",
      "Epoch 85/150\n",
      "11256/11256 [==============================] - 1s 90us/step - loss: 0.2269 - acc: 0.9190\n",
      "Epoch 86/150\n",
      "11256/11256 [==============================] - 1s 87us/step - loss: 0.2274 - acc: 0.9182\n",
      "Epoch 87/150\n",
      "11256/11256 [==============================] - 1s 87us/step - loss: 0.2276 - acc: 0.9179\n",
      "Epoch 88/150\n",
      "11256/11256 [==============================] - 1s 88us/step - loss: 0.2276 - acc: 0.9169\n",
      "Epoch 89/150\n",
      "11256/11256 [==============================] - 1s 87us/step - loss: 0.2271 - acc: 0.9173\n",
      "Epoch 90/150\n",
      "11256/11256 [==============================] - 1s 87us/step - loss: 0.2232 - acc: 0.9200\n",
      "Epoch 91/150\n",
      "11256/11256 [==============================] - 1s 87us/step - loss: 0.2249 - acc: 0.9180\n",
      "Epoch 92/150\n",
      "11256/11256 [==============================] - 1s 87us/step - loss: 0.2242 - acc: 0.9193\n",
      "Epoch 93/150\n",
      "11256/11256 [==============================] - 1s 87us/step - loss: 0.2275 - acc: 0.9176\n",
      "Epoch 94/150\n",
      "11256/11256 [==============================] - 1s 87us/step - loss: 0.2244 - acc: 0.9174\n",
      "Epoch 95/150\n",
      "11256/11256 [==============================] - 1s 87us/step - loss: 0.2248 - acc: 0.9169\n",
      "Epoch 96/150\n",
      "11256/11256 [==============================] - 1s 88us/step - loss: 0.2233 - acc: 0.9184\n",
      "Epoch 97/150\n",
      "11256/11256 [==============================] - 1s 87us/step - loss: 0.2227 - acc: 0.9194\n",
      "Epoch 98/150\n",
      "11256/11256 [==============================] - 1s 87us/step - loss: 0.2240 - acc: 0.9180\n",
      "Epoch 99/150\n",
      "11256/11256 [==============================] - 1s 87us/step - loss: 0.2232 - acc: 0.9192\n",
      "Epoch 100/150\n",
      "11256/11256 [==============================] - 1s 87us/step - loss: 0.2218 - acc: 0.9199\n",
      "Epoch 101/150\n",
      "11256/11256 [==============================] - 1s 87us/step - loss: 0.2219 - acc: 0.9202\n",
      "Epoch 102/150\n",
      "11256/11256 [==============================] - 1s 87us/step - loss: 0.2231 - acc: 0.9190\n",
      "Epoch 103/150\n",
      "11256/11256 [==============================] - 1s 86us/step - loss: 0.2235 - acc: 0.9189\n",
      "Epoch 104/150\n",
      "11256/11256 [==============================] - 1s 87us/step - loss: 0.2187 - acc: 0.9209\n",
      "Epoch 105/150\n",
      "11256/11256 [==============================] - 1s 86us/step - loss: 0.2228 - acc: 0.9192\n",
      "Epoch 106/150\n",
      "11256/11256 [==============================] - 1s 87us/step - loss: 0.2220 - acc: 0.9180\n",
      "Epoch 107/150\n",
      "11256/11256 [==============================] - 1s 86us/step - loss: 0.2221 - acc: 0.9172\n",
      "Epoch 108/150\n",
      "11256/11256 [==============================] - 1s 87us/step - loss: 0.2190 - acc: 0.9176\n",
      "Epoch 109/150\n",
      "11256/11256 [==============================] - 1s 86us/step - loss: 0.2231 - acc: 0.9192\n",
      "Epoch 110/150\n",
      "11256/11256 [==============================] - 1s 87us/step - loss: 0.2206 - acc: 0.9196\n",
      "Epoch 111/150\n",
      "11256/11256 [==============================] - 1s 87us/step - loss: 0.2259 - acc: 0.9184\n",
      "Epoch 112/150\n",
      "11256/11256 [==============================] - 1s 87us/step - loss: 0.2197 - acc: 0.9195\n",
      "Epoch 113/150\n",
      "11256/11256 [==============================] - 1s 87us/step - loss: 0.2196 - acc: 0.9198\n",
      "Epoch 114/150\n",
      "11256/11256 [==============================] - 1s 87us/step - loss: 0.2161 - acc: 0.9206\n",
      "Epoch 115/150\n",
      "11256/11256 [==============================] - 1s 87us/step - loss: 0.2192 - acc: 0.9192\n",
      "Epoch 116/150\n",
      "11256/11256 [==============================] - 1s 88us/step - loss: 0.2191 - acc: 0.9195\n",
      "Epoch 117/150\n",
      "11256/11256 [==============================] - 1s 87us/step - loss: 0.2169 - acc: 0.9211\n",
      "Epoch 118/150\n",
      "11256/11256 [==============================] - 1s 87us/step - loss: 0.2312 - acc: 0.9179\n",
      "Epoch 119/150\n",
      "11256/11256 [==============================] - 1s 87us/step - loss: 0.2429 - acc: 0.9183\n",
      "Epoch 120/150\n",
      "11256/11256 [==============================] - 1s 87us/step - loss: 0.2412 - acc: 0.9163\n",
      "Epoch 121/150\n",
      "11256/11256 [==============================] - 1s 87us/step - loss: 0.2346 - acc: 0.9220\n",
      "Epoch 122/150\n",
      "11256/11256 [==============================] - 1s 87us/step - loss: 0.2364 - acc: 0.9184\n",
      "Epoch 123/150\n",
      "11256/11256 [==============================] - 1s 87us/step - loss: 0.2368 - acc: 0.9186\n",
      "Epoch 124/150\n",
      "11256/11256 [==============================] - 1s 86us/step - loss: 0.2369 - acc: 0.9194\n",
      "Epoch 125/150\n",
      "11256/11256 [==============================] - 1s 86us/step - loss: 0.2353 - acc: 0.9187\n",
      "Epoch 126/150\n",
      "11256/11256 [==============================] - 1s 87us/step - loss: 0.2330 - acc: 0.9207\n",
      "Epoch 127/150\n",
      "11256/11256 [==============================] - 1s 87us/step - loss: 0.2358 - acc: 0.9195\n",
      "Epoch 128/150\n",
      "11256/11256 [==============================] - 1s 86us/step - loss: 0.2351 - acc: 0.9199\n",
      "Epoch 129/150\n",
      "11256/11256 [==============================] - 1s 86us/step - loss: 0.2323 - acc: 0.9182\n",
      "Epoch 130/150\n",
      "11256/11256 [==============================] - 1s 87us/step - loss: 0.2331 - acc: 0.9192\n",
      "Epoch 131/150\n",
      "11256/11256 [==============================] - 1s 87us/step - loss: 0.2317 - acc: 0.9195\n",
      "Epoch 132/150\n",
      "11256/11256 [==============================] - 1s 87us/step - loss: 0.2352 - acc: 0.9179\n",
      "Epoch 133/150\n",
      "11256/11256 [==============================] - 1s 87us/step - loss: 0.2366 - acc: 0.9164\n",
      "Epoch 134/150\n",
      "11256/11256 [==============================] - 1s 87us/step - loss: 0.2336 - acc: 0.9179\n",
      "Epoch 135/150\n",
      "11256/11256 [==============================] - 1s 87us/step - loss: 0.2300 - acc: 0.9192\n",
      "Epoch 136/150\n",
      "11256/11256 [==============================] - 1s 87us/step - loss: 0.2313 - acc: 0.9184\n",
      "Epoch 137/150\n",
      "11256/11256 [==============================] - 1s 87us/step - loss: 0.2330 - acc: 0.9180\n",
      "Epoch 138/150\n",
      "11256/11256 [==============================] - 1s 87us/step - loss: 0.2322 - acc: 0.9191\n",
      "Epoch 139/150\n",
      "11256/11256 [==============================] - 1s 87us/step - loss: 0.2324 - acc: 0.9192\n",
      "Epoch 140/150\n",
      "11256/11256 [==============================] - 1s 87us/step - loss: 0.2321 - acc: 0.9186\n",
      "Epoch 141/150\n",
      "11256/11256 [==============================] - 1s 87us/step - loss: 0.2330 - acc: 0.9193\n",
      "Epoch 142/150\n",
      "11256/11256 [==============================] - 1s 87us/step - loss: 0.2298 - acc: 0.9176\n",
      "Epoch 143/150\n",
      "11256/11256 [==============================] - 1s 87us/step - loss: 0.2272 - acc: 0.9212\n",
      "Epoch 144/150\n",
      "11256/11256 [==============================] - 1s 87us/step - loss: 0.2340 - acc: 0.9153\n",
      "Epoch 145/150\n",
      "11256/11256 [==============================] - 1s 87us/step - loss: 0.2281 - acc: 0.9192\n",
      "Epoch 146/150\n",
      "11256/11256 [==============================] - 1s 87us/step - loss: 0.2295 - acc: 0.9209\n",
      "Epoch 147/150\n",
      "11256/11256 [==============================] - 1s 87us/step - loss: 0.2291 - acc: 0.9180\n",
      "Epoch 148/150\n",
      "11256/11256 [==============================] - 1s 87us/step - loss: 0.2275 - acc: 0.9200\n",
      "Epoch 149/150\n",
      "11256/11256 [==============================] - 1s 86us/step - loss: 0.2296 - acc: 0.9186\n",
      "Epoch 150/150\n",
      "11256/11256 [==============================] - 1s 87us/step - loss: 0.2261 - acc: 0.9206\n"
     ]
    },
    {
     "data": {
      "text/plain": [
       "<tensorflow.python.keras.callbacks.History at 0x24696000a58>"
      ]
     },
     "execution_count": 115,
     "metadata": {},
     "output_type": "execute_result"
    }
   ],
   "source": [
    "# Fit the model\n",
    "dl_model.fit(X_train_pca, y_train, epochs=150, batch_size=10)"
   ]
  },
  {
   "cell_type": "code",
   "execution_count": 116,
   "metadata": {},
   "outputs": [
    {
     "name": "stdout",
     "output_type": "stream",
     "text": [
      "2815/2815 [==============================] - 0s 63us/step\n",
      "Test score: 0.25094999368327336\n",
      "Test accuracy: 0.9097690862830113\n"
     ]
    }
   ],
   "source": [
    "# evaluate the model\n",
    "score, acc = dl_model.evaluate(X_test_pca, y_test,batch_size=10)\n",
    "print('Test score:', score)\n",
    "print('Test accuracy:', acc)"
   ]
  },
  {
   "cell_type": "code",
   "execution_count": 117,
   "metadata": {
    "scrolled": true
   },
   "outputs": [
    {
     "data": {
      "text/plain": [
       "array([[3.8684812e-01],\n",
       "       [1.0511646e-04],\n",
       "       [3.8554136e-02],\n",
       "       ...,\n",
       "       [2.3896094e-01],\n",
       "       [1.5639007e-01],\n",
       "       [6.8389726e-01]], dtype=float32)"
      ]
     },
     "execution_count": 117,
     "metadata": {},
     "output_type": "execute_result"
    }
   ],
   "source": [
    "y_predict = dl_model.predict(X_test_pca)\n",
    "y_predict"
   ]
  },
  {
   "cell_type": "code",
   "execution_count": 118,
   "metadata": {},
   "outputs": [
    {
     "name": "stdout",
     "output_type": "stream",
     "text": [
      "2815/2815 [==============================] - 0s 14us/step\n"
     ]
    },
    {
     "data": {
      "text/plain": [
       "[0.2509499898918145, 0.9097690941808914]"
      ]
     },
     "execution_count": 118,
     "metadata": {},
     "output_type": "execute_result"
    }
   ],
   "source": [
    "dl_model.evaluate(X_test_pca, y_test)"
   ]
  },
  {
   "cell_type": "code",
   "execution_count": 119,
   "metadata": {},
   "outputs": [
    {
     "name": "stdout",
     "output_type": "stream",
     "text": [
      "_________________________________________________________________\n",
      "Layer (type)                 Output Shape              Param #   \n",
      "=================================================================\n",
      "dense (Dense)                (None, 12)                96        \n",
      "_________________________________________________________________\n",
      "dense_1 (Dense)              (None, 8)                 104       \n",
      "_________________________________________________________________\n",
      "dense_2 (Dense)              (None, 1)                 9         \n",
      "=================================================================\n",
      "Total params: 209\n",
      "Trainable params: 209\n",
      "Non-trainable params: 0\n",
      "_________________________________________________________________\n"
     ]
    }
   ],
   "source": [
    "dl_model.summary()"
   ]
  },
  {
   "cell_type": "markdown",
   "metadata": {},
   "source": [
    "################################################THE END############################################################"
   ]
  }
 ],
 "metadata": {
  "kernelspec": {
   "display_name": "Python 3",
   "language": "python",
   "name": "python3"
  },
  "language_info": {
   "codemirror_mode": {
    "name": "ipython",
    "version": 3
   },
   "file_extension": ".py",
   "mimetype": "text/x-python",
   "name": "python",
   "nbconvert_exporter": "python",
   "pygments_lexer": "ipython3",
   "version": "3.6.5"
  }
 },
 "nbformat": 4,
 "nbformat_minor": 2
}
